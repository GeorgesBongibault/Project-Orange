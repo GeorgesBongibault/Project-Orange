{
  "nbformat": 4,
  "nbformat_minor": 0,
  "metadata": {
    "colab": {
      "name": "DMML Team Orange.ipynb",
      "provenance": [],
      "collapsed_sections": [
        "iPDkS_ZB0NPp",
        "JnnBF0535QHj",
        "brbMj2E6E29D",
        "qtm0E3VTFOGh",
        "CBJGzGrhq8w7",
        "kho3a5HSw2Z2",
        "F7IthvPyKonD",
        "zZ07tfXZLjae",
        "VRfclSdSLl9e",
        "YpBwHwPbCTjR",
        "PdGvW0L1OHkX"
      ],
      "include_colab_link": true
    },
    "kernelspec": {
      "name": "python3",
      "display_name": "Python 3"
    }
  },
  "cells": [
    {
      "cell_type": "markdown",
      "metadata": {
        "id": "view-in-github",
        "colab_type": "text"
      },
      "source": [
        "<a href=\"https://colab.research.google.com/github/GeorgesBongibault/Project-Orange/blob/main/DMML_Team_Orange.ipynb\" target=\"_parent\"><img src=\"https://colab.research.google.com/assets/colab-badge.svg\" alt=\"Open In Colab\"/></a>"
      ]
    },
    {
      "cell_type": "markdown",
      "metadata": {
        "id": "w9GDHMpV5QHV"
      },
      "source": [
        "# Data Mining and Machine Learning Project : Group Orange\n",
        "####Diana Korka, Georges Bongibault, Thomas Tabernero\n",
        "Given tweets on the subject of disasters, we will build Machine Learning models that should predict which tweets are about a real disaster and which are not.\n",
        "##Table of contents:\n",
        "> 1. Exploratory Data Analysis\n",
        "> 2. First classifier: Logistic Regression\n",
        "> 3. First ideas for improving accuracy\n",
        "> 4. Second classifier: Random forest\n",
        "> 5. Third classifier: K-Nearest Neighbours\n",
        "> 6. Dimension Reduction and Feature Engineering\n",
        "> 7. Further improvements"
      ]
    },
    {
      "cell_type": "markdown",
      "metadata": {
        "id": "iPDkS_ZB0NPp"
      },
      "source": [
        "###Useful importations\r\n"
      ]
    },
    {
      "cell_type": "code",
      "metadata": {
        "id": "fMXSZG845QHW",
        "colab": {
          "base_uri": "https://localhost:8080/"
        },
        "outputId": "05ae624a-1273-4a16-adc7-78f42e0342a0"
      },
      "source": [
        "%matplotlib inline\n",
        "import numpy as np\n",
        "import matplotlib\n",
        "import matplotlib.pyplot as plt\n",
        "from matplotlib import collections  as mc\n",
        "%load_ext autoreload\n",
        "%autoreload 2\n",
        "import pandas as pd \n",
        "import seaborn as sns\n",
        "from sklearn.preprocessing import LabelEncoder, OneHotEncoder\n",
        "from sklearn.feature_extraction.text import CountVectorizer,TfidfVectorizer\n",
        "from sklearn.base import TransformerMixin\n",
        "from sklearn.pipeline import Pipeline\n",
        "from sklearn.model_selection import train_test_split\n",
        "from sklearn.linear_model import LogisticRegression, LogisticRegressionCV\n",
        "from sklearn.metrics import confusion_matrix, accuracy_score, precision_score, recall_score, f1_score\n",
        "!python -m spacy download en\n",
        "import spacy\n",
        "from spacy.language import Language\n",
        "from spacy.lang.en import English\n",
        "import string\n",
        "from sklearn.model_selection import GridSearchCV\n",
        "\n",
        "sns.set_style(\"white\")\n",
        "matplotlib.style.use(['seaborn-talk', 'seaborn-ticks', 'seaborn-whitegrid'])"
      ],
      "execution_count": null,
      "outputs": [
        {
          "output_type": "stream",
          "text": [
            "Requirement already satisfied: en_core_web_sm==2.2.5 from https://github.com/explosion/spacy-models/releases/download/en_core_web_sm-2.2.5/en_core_web_sm-2.2.5.tar.gz#egg=en_core_web_sm==2.2.5 in /usr/local/lib/python3.6/dist-packages (2.2.5)\n",
            "Requirement already satisfied: spacy>=2.2.2 in /usr/local/lib/python3.6/dist-packages (from en_core_web_sm==2.2.5) (2.2.4)\n",
            "Requirement already satisfied: blis<0.5.0,>=0.4.0 in /usr/local/lib/python3.6/dist-packages (from spacy>=2.2.2->en_core_web_sm==2.2.5) (0.4.1)\n",
            "Requirement already satisfied: srsly<1.1.0,>=1.0.2 in /usr/local/lib/python3.6/dist-packages (from spacy>=2.2.2->en_core_web_sm==2.2.5) (1.0.5)\n",
            "Requirement already satisfied: plac<1.2.0,>=0.9.6 in /usr/local/lib/python3.6/dist-packages (from spacy>=2.2.2->en_core_web_sm==2.2.5) (1.1.3)\n",
            "Requirement already satisfied: murmurhash<1.1.0,>=0.28.0 in /usr/local/lib/python3.6/dist-packages (from spacy>=2.2.2->en_core_web_sm==2.2.5) (1.0.5)\n",
            "Requirement already satisfied: thinc==7.4.0 in /usr/local/lib/python3.6/dist-packages (from spacy>=2.2.2->en_core_web_sm==2.2.5) (7.4.0)\n",
            "Requirement already satisfied: tqdm<5.0.0,>=4.38.0 in /usr/local/lib/python3.6/dist-packages (from spacy>=2.2.2->en_core_web_sm==2.2.5) (4.41.1)\n",
            "Requirement already satisfied: numpy>=1.15.0 in /usr/local/lib/python3.6/dist-packages (from spacy>=2.2.2->en_core_web_sm==2.2.5) (1.18.5)\n",
            "Requirement already satisfied: preshed<3.1.0,>=3.0.2 in /usr/local/lib/python3.6/dist-packages (from spacy>=2.2.2->en_core_web_sm==2.2.5) (3.0.5)\n",
            "Requirement already satisfied: requests<3.0.0,>=2.13.0 in /usr/local/lib/python3.6/dist-packages (from spacy>=2.2.2->en_core_web_sm==2.2.5) (2.23.0)\n",
            "Requirement already satisfied: wasabi<1.1.0,>=0.4.0 in /usr/local/lib/python3.6/dist-packages (from spacy>=2.2.2->en_core_web_sm==2.2.5) (0.8.0)\n",
            "Requirement already satisfied: catalogue<1.1.0,>=0.0.7 in /usr/local/lib/python3.6/dist-packages (from spacy>=2.2.2->en_core_web_sm==2.2.5) (1.0.0)\n",
            "Requirement already satisfied: cymem<2.1.0,>=2.0.2 in /usr/local/lib/python3.6/dist-packages (from spacy>=2.2.2->en_core_web_sm==2.2.5) (2.0.5)\n",
            "Requirement already satisfied: setuptools in /usr/local/lib/python3.6/dist-packages (from spacy>=2.2.2->en_core_web_sm==2.2.5) (50.3.2)\n",
            "Requirement already satisfied: urllib3!=1.25.0,!=1.25.1,<1.26,>=1.21.1 in /usr/local/lib/python3.6/dist-packages (from requests<3.0.0,>=2.13.0->spacy>=2.2.2->en_core_web_sm==2.2.5) (1.24.3)\n",
            "Requirement already satisfied: chardet<4,>=3.0.2 in /usr/local/lib/python3.6/dist-packages (from requests<3.0.0,>=2.13.0->spacy>=2.2.2->en_core_web_sm==2.2.5) (3.0.4)\n",
            "Requirement already satisfied: certifi>=2017.4.17 in /usr/local/lib/python3.6/dist-packages (from requests<3.0.0,>=2.13.0->spacy>=2.2.2->en_core_web_sm==2.2.5) (2020.12.5)\n",
            "Requirement already satisfied: idna<3,>=2.5 in /usr/local/lib/python3.6/dist-packages (from requests<3.0.0,>=2.13.0->spacy>=2.2.2->en_core_web_sm==2.2.5) (2.10)\n",
            "Requirement already satisfied: importlib-metadata>=0.20; python_version < \"3.8\" in /usr/local/lib/python3.6/dist-packages (from catalogue<1.1.0,>=0.0.7->spacy>=2.2.2->en_core_web_sm==2.2.5) (3.1.1)\n",
            "Requirement already satisfied: zipp>=0.5 in /usr/local/lib/python3.6/dist-packages (from importlib-metadata>=0.20; python_version < \"3.8\"->catalogue<1.1.0,>=0.0.7->spacy>=2.2.2->en_core_web_sm==2.2.5) (3.4.0)\n",
            "\u001b[38;5;2m✔ Download and installation successful\u001b[0m\n",
            "You can now load the model via spacy.load('en_core_web_sm')\n",
            "\u001b[38;5;2m✔ Linking successful\u001b[0m\n",
            "/usr/local/lib/python3.6/dist-packages/en_core_web_sm -->\n",
            "/usr/local/lib/python3.6/dist-packages/spacy/data/en\n",
            "You can now load the model via spacy.load('en')\n"
          ],
          "name": "stdout"
        }
      ]
    },
    {
      "cell_type": "markdown",
      "metadata": {
        "id": "JnnBF0535QHj"
      },
      "source": [
        "### Load the Data\n",
        "\n",
        "We will use the training_data dataset from our Github repository (https://github.com/GeorgesBongibault/Project-Orange). This dataset contains some information about tweets related to disasters.\n",
        "The features of the dataset are :\n",
        "\n",
        "> 1. `id` : the personnal identificational number of the tweet.\n",
        "> 2. `keyword` : what the tweet is about\n",
        "> 3. `location` : where the tweet is from\n",
        "> 4. `text`: the entire tweet\n",
        "> 5. `target` : true disaster (1) or not (0)\n",
        "\n",
        "Our task is to predict which tweets are about a real disaster and which are not."
      ]
    },
    {
      "cell_type": "markdown",
      "metadata": {
        "id": "CspByvdN099Z"
      },
      "source": [
        "We load and save the test set for later."
      ]
    },
    {
      "cell_type": "code",
      "metadata": {
        "id": "VtjAJ8xG1jnS"
      },
      "source": [
        "test_df = pd.read_csv('https://raw.githubusercontent.com/GeorgesBongibault/Project-Orange/main/Data/test_data.csv')"
      ],
      "execution_count": null,
      "outputs": []
    },
    {
      "cell_type": "markdown",
      "metadata": {
        "id": "qw6aw2fF1teQ"
      },
      "source": [
        "Let's take a look at our dataset."
      ]
    },
    {
      "cell_type": "code",
      "metadata": {
        "id": "2xktAXDA5QHj",
        "colab": {
          "base_uri": "https://localhost:8080/"
        },
        "outputId": "80188e31-9555-41d2-b13a-de89fa9149a7"
      },
      "source": [
        "df = pd.read_csv(\"https://raw.githubusercontent.com/GeorgesBongibault/Project-Orange/main/Data/training_data.csv\")\n",
        "df.head(27)"
      ],
      "execution_count": null,
      "outputs": [
        {
          "output_type": "execute_result",
          "data": {
            "text/html": [
              "<div>\n",
              "<style scoped>\n",
              "    .dataframe tbody tr th:only-of-type {\n",
              "        vertical-align: middle;\n",
              "    }\n",
              "\n",
              "    .dataframe tbody tr th {\n",
              "        vertical-align: top;\n",
              "    }\n",
              "\n",
              "    .dataframe thead th {\n",
              "        text-align: right;\n",
              "    }\n",
              "</style>\n",
              "<table border=\"1\" class=\"dataframe\">\n",
              "  <thead>\n",
              "    <tr style=\"text-align: right;\">\n",
              "      <th></th>\n",
              "      <th>id</th>\n",
              "      <th>keyword</th>\n",
              "      <th>location</th>\n",
              "      <th>text</th>\n",
              "      <th>target</th>\n",
              "    </tr>\n",
              "  </thead>\n",
              "  <tbody>\n",
              "    <tr>\n",
              "      <th>0</th>\n",
              "      <td>3738</td>\n",
              "      <td>destroyed</td>\n",
              "      <td>USA</td>\n",
              "      <td>Black Eye 9: A space battle occurred at Star O...</td>\n",
              "      <td>0</td>\n",
              "    </tr>\n",
              "    <tr>\n",
              "      <th>1</th>\n",
              "      <td>853</td>\n",
              "      <td>bioterror</td>\n",
              "      <td>NaN</td>\n",
              "      <td>#world FedEx no longer to transport bioterror ...</td>\n",
              "      <td>0</td>\n",
              "    </tr>\n",
              "    <tr>\n",
              "      <th>2</th>\n",
              "      <td>10540</td>\n",
              "      <td>windstorm</td>\n",
              "      <td>Palm Beach County, FL</td>\n",
              "      <td>Reality Training: Train falls off elevated tra...</td>\n",
              "      <td>1</td>\n",
              "    </tr>\n",
              "    <tr>\n",
              "      <th>3</th>\n",
              "      <td>5988</td>\n",
              "      <td>hazardous</td>\n",
              "      <td>USA</td>\n",
              "      <td>#Taiwan Grace: expect that large rocks trees m...</td>\n",
              "      <td>1</td>\n",
              "    </tr>\n",
              "    <tr>\n",
              "      <th>4</th>\n",
              "      <td>6328</td>\n",
              "      <td>hostage</td>\n",
              "      <td>Australia</td>\n",
              "      <td>New ISIS Video: ISIS Threatens to Behead Croat...</td>\n",
              "      <td>1</td>\n",
              "    </tr>\n",
              "    <tr>\n",
              "      <th>5</th>\n",
              "      <td>6669</td>\n",
              "      <td>landslide</td>\n",
              "      <td>Scotland</td>\n",
              "      <td>FreeBesieged: .MartinMJ22 YouGov Which '#Tory ...</td>\n",
              "      <td>1</td>\n",
              "    </tr>\n",
              "    <tr>\n",
              "      <th>6</th>\n",
              "      <td>9772</td>\n",
              "      <td>trapped</td>\n",
              "      <td>New York City</td>\n",
              "      <td>Billionaires have a plan to free half a billio...</td>\n",
              "      <td>0</td>\n",
              "    </tr>\n",
              "    <tr>\n",
              "      <th>7</th>\n",
              "      <td>10361</td>\n",
              "      <td>weapons</td>\n",
              "      <td>Multinational *****</td>\n",
              "      <td>@JamesMelville Some old testimony of weapons u...</td>\n",
              "      <td>0</td>\n",
              "    </tr>\n",
              "    <tr>\n",
              "      <th>8</th>\n",
              "      <td>1953</td>\n",
              "      <td>burning%20buildings</td>\n",
              "      <td>Los Angeles</td>\n",
              "      <td>Ali you flew planes and ran into burning build...</td>\n",
              "      <td>0</td>\n",
              "    </tr>\n",
              "    <tr>\n",
              "      <th>9</th>\n",
              "      <td>9586</td>\n",
              "      <td>thunder</td>\n",
              "      <td>NaN</td>\n",
              "      <td>The thunder shook my house woke my sister and ...</td>\n",
              "      <td>1</td>\n",
              "    </tr>\n",
              "    <tr>\n",
              "      <th>10</th>\n",
              "      <td>8010</td>\n",
              "      <td>refugees</td>\n",
              "      <td>Ad Majorem Dei Glorium</td>\n",
              "      <td>Police Monitoring 200 Jihadis in Poland http:/...</td>\n",
              "      <td>1</td>\n",
              "    </tr>\n",
              "    <tr>\n",
              "      <th>11</th>\n",
              "      <td>7725</td>\n",
              "      <td>panicking</td>\n",
              "      <td>UK</td>\n",
              "      <td>My dad is panicking as my weight loss means he...</td>\n",
              "      <td>0</td>\n",
              "    </tr>\n",
              "    <tr>\n",
              "      <th>12</th>\n",
              "      <td>9221</td>\n",
              "      <td>suicide%20bombing</td>\n",
              "      <td>GCC</td>\n",
              "      <td>Alleged driver in #Kuwait attack 'joined Daesh...</td>\n",
              "      <td>1</td>\n",
              "    </tr>\n",
              "    <tr>\n",
              "      <th>13</th>\n",
              "      <td>1774</td>\n",
              "      <td>buildings%20on%20fire</td>\n",
              "      <td>New Hampshire</td>\n",
              "      <td>Video:  Fire burns two apartment buildings and...</td>\n",
              "      <td>1</td>\n",
              "    </tr>\n",
              "    <tr>\n",
              "      <th>14</th>\n",
              "      <td>8621</td>\n",
              "      <td>seismic</td>\n",
              "      <td>NaN</td>\n",
              "      <td>Thanks Benson &amp;amp; Clegg for the #follow! Che...</td>\n",
              "      <td>0</td>\n",
              "    </tr>\n",
              "    <tr>\n",
              "      <th>15</th>\n",
              "      <td>1710</td>\n",
              "      <td>bridge%20collapse</td>\n",
              "      <td>NaN</td>\n",
              "      <td>Mexico: construction of bridge collapse killså...</td>\n",
              "      <td>1</td>\n",
              "    </tr>\n",
              "    <tr>\n",
              "      <th>16</th>\n",
              "      <td>4511</td>\n",
              "      <td>emergency</td>\n",
              "      <td>Phoenix</td>\n",
              "      <td>God forbid anyone in my family knows how to an...</td>\n",
              "      <td>0</td>\n",
              "    </tr>\n",
              "    <tr>\n",
              "      <th>17</th>\n",
              "      <td>1480</td>\n",
              "      <td>body%20bags</td>\n",
              "      <td>Oklahoma City</td>\n",
              "      <td>Micom 2015 Summer Contrast Candy Color Bowknot...</td>\n",
              "      <td>0</td>\n",
              "    </tr>\n",
              "    <tr>\n",
              "      <th>18</th>\n",
              "      <td>10628</td>\n",
              "      <td>wounded</td>\n",
              "      <td>USA</td>\n",
              "      <td>ABC News: Police Officer Wounded Suspect Dead ...</td>\n",
              "      <td>1</td>\n",
              "    </tr>\n",
              "    <tr>\n",
              "      <th>19</th>\n",
              "      <td>7849</td>\n",
              "      <td>quarantined</td>\n",
              "      <td>Cumming, GA</td>\n",
              "      <td>Reddit's new content policy goes into effect m...</td>\n",
              "      <td>0</td>\n",
              "    </tr>\n",
              "    <tr>\n",
              "      <th>20</th>\n",
              "      <td>10195</td>\n",
              "      <td>violent%20storm</td>\n",
              "      <td>NaN</td>\n",
              "      <td>Storm blitzes Traverse City disrupts Managemen...</td>\n",
              "      <td>1</td>\n",
              "    </tr>\n",
              "    <tr>\n",
              "      <th>21</th>\n",
              "      <td>1146</td>\n",
              "      <td>blight</td>\n",
              "      <td>NaN</td>\n",
              "      <td>THDA Kicks Off Anti-Blight Loan Effort in Memp...</td>\n",
              "      <td>0</td>\n",
              "    </tr>\n",
              "    <tr>\n",
              "      <th>22</th>\n",
              "      <td>9195</td>\n",
              "      <td>suicide%20bombing</td>\n",
              "      <td>Minority Privilege, USA</td>\n",
              "      <td>@sonofbobBOB @Shimmyfab @trickxie usually I'd ...</td>\n",
              "      <td>1</td>\n",
              "    </tr>\n",
              "    <tr>\n",
              "      <th>23</th>\n",
              "      <td>1799</td>\n",
              "      <td>buildings%20on%20fire</td>\n",
              "      <td>Brisbane Australia</td>\n",
              "      <td>Fire hazard associated with installation of no...</td>\n",
              "      <td>0</td>\n",
              "    </tr>\n",
              "    <tr>\n",
              "      <th>24</th>\n",
              "      <td>3682</td>\n",
              "      <td>destroy</td>\n",
              "      <td>NaN</td>\n",
              "      <td>Me and all my friends could destroy this in 2h...</td>\n",
              "      <td>0</td>\n",
              "    </tr>\n",
              "    <tr>\n",
              "      <th>25</th>\n",
              "      <td>3855</td>\n",
              "      <td>detonation</td>\n",
              "      <td>NaN</td>\n",
              "      <td>Dorman 917-033 Ignition Knock (Detonation) Sen...</td>\n",
              "      <td>1</td>\n",
              "    </tr>\n",
              "    <tr>\n",
              "      <th>26</th>\n",
              "      <td>1815</td>\n",
              "      <td>buildings%20on%20fire</td>\n",
              "      <td>Boston, MA</td>\n",
              "      <td>Three-alarm fire destroys two residential buil...</td>\n",
              "      <td>1</td>\n",
              "    </tr>\n",
              "  </tbody>\n",
              "</table>\n",
              "</div>"
            ],
            "text/plain": [
              "       id  ... target\n",
              "0    3738  ...      0\n",
              "1     853  ...      0\n",
              "2   10540  ...      1\n",
              "3    5988  ...      1\n",
              "4    6328  ...      1\n",
              "5    6669  ...      1\n",
              "6    9772  ...      0\n",
              "7   10361  ...      0\n",
              "8    1953  ...      0\n",
              "9    9586  ...      1\n",
              "10   8010  ...      1\n",
              "11   7725  ...      0\n",
              "12   9221  ...      1\n",
              "13   1774  ...      1\n",
              "14   8621  ...      0\n",
              "15   1710  ...      1\n",
              "16   4511  ...      0\n",
              "17   1480  ...      0\n",
              "18  10628  ...      1\n",
              "19   7849  ...      0\n",
              "20  10195  ...      1\n",
              "21   1146  ...      0\n",
              "22   9195  ...      1\n",
              "23   1799  ...      0\n",
              "24   3682  ...      0\n",
              "25   3855  ...      1\n",
              "26   1815  ...      1\n",
              "\n",
              "[27 rows x 5 columns]"
            ]
          },
          "metadata": {
            "tags": []
          },
          "execution_count": 90
        }
      ]
    },
    {
      "cell_type": "code",
      "metadata": {
        "id": "1WhuzicK5QHu",
        "colab": {
          "base_uri": "https://localhost:8080/"
        },
        "outputId": "e9897630-6742-4491-f66e-0615b6fff38b"
      },
      "source": [
        "print(\"There are\", df.shape[0],\"rows and\",df.shape[1], \"columns in this dataset\")"
      ],
      "execution_count": null,
      "outputs": [
        {
          "output_type": "stream",
          "text": [
            "There are 6471 rows and 5 columns in this dataset\n"
          ],
          "name": "stdout"
        }
      ]
    },
    {
      "cell_type": "markdown",
      "metadata": {
        "id": "brbMj2E6E29D"
      },
      "source": [
        "##1. Exploratory Data Analysis\n"
      ]
    },
    {
      "cell_type": "markdown",
      "metadata": {
        "id": "svQPKzcPOCIc"
      },
      "source": [
        "### Base rate\r\n",
        "Let's compute the base rate and see the repartition of our data set."
      ]
    },
    {
      "cell_type": "code",
      "metadata": {
        "id": "KBdSLwnZxdwG",
        "colab": {
          "base_uri": "https://localhost:8080/",
          "height": 247
        },
        "outputId": "9de411d3-2fe1-4c7a-e428-44d57146f898"
      },
      "source": [
        "label = 'Not Real disasters', 'Real disasters'\n",
        "df.target.value_counts().plot(kind='pie',autopct='%1.1f%%', labels = label)\n",
        "plt.show()"
      ],
      "execution_count": null,
      "outputs": [
        {
          "output_type": "display_data",
          "data": {
            "image/png": "[encoded data removed]",
            "text/plain": [
              "<Figure size 432x288 with 1 Axes>"
            ]
          },
          "metadata": {
            "tags": []
          }
        }
      ]
    },
    {
      "cell_type": "code",
      "metadata": {
        "colab": {
          "base_uri": "https://localhost:8080/"
        },
        "id": "qEqlIm3RCQY7",
        "outputId": "2404ec68-0944-4f69-d8eb-7ff4b3058286"
      },
      "source": [
        "l_false = len(df[df[\"target\"] == 0])\n",
        "l_true = len(df[df[\"target\"] == 1])\n",
        "print(\"We have a base rate of\",round(max(l_false, l_true)/df.shape[0],4),\"and the most common class is the false disasters, with\", l_false, \"occurences.\")"
      ],
      "execution_count": null,
      "outputs": [
        {
          "output_type": "stream",
          "text": [
            "We have a base rate of 0.5719 and the most common class is the false disasters, with 3701 occurences.\n"
          ],
          "name": "stdout"
        }
      ]
    },
    {
      "cell_type": "markdown",
      "metadata": {
        "id": "lIoRIi6N2FLj"
      },
      "source": [
        "Our data is well balanced between both classes, the accuracy will therefore be a good indicator of the robustness of our model."
      ]
    },
    {
      "cell_type": "markdown",
      "metadata": {
        "id": "fqrpA9de23PP"
      },
      "source": [
        "### Description of variables :"
      ]
    },
    {
      "cell_type": "markdown",
      "metadata": {
        "id": "e-6ZfuIXFW5r"
      },
      "source": [
        "Description of the variable \"keyword\" :"
      ]
    },
    {
      "cell_type": "code",
      "metadata": {
        "colab": {
          "base_uri": "https://localhost:8080/"
        },
        "id": "i1w7m2cPD_P4",
        "outputId": "aefb20bc-faaf-4acc-be65-00df012c0ffa"
      },
      "source": [
        "df.keyword.describe()"
      ],
      "execution_count": null,
      "outputs": [
        {
          "output_type": "execute_result",
          "data": {
            "text/plain": [
              "count       6416\n",
              "unique       221\n",
              "top       deluge\n",
              "freq          39\n",
              "Name: keyword, dtype: object"
            ]
          },
          "metadata": {
            "tags": []
          },
          "execution_count": 28
        }
      ]
    },
    {
      "cell_type": "markdown",
      "metadata": {
        "id": "ld9GahWGFhCn"
      },
      "source": [
        "Description of the variable \"location\" :"
      ]
    },
    {
      "cell_type": "code",
      "metadata": {
        "colab": {
          "base_uri": "https://localhost:8080/"
        },
        "id": "-YoEC5BgEE9U",
        "outputId": "eeee63aa-e066-49b4-e4fd-e6354811c309"
      },
      "source": [
        "df.location.describe()"
      ],
      "execution_count": null,
      "outputs": [
        {
          "output_type": "execute_result",
          "data": {
            "text/plain": [
              "count     4330\n",
              "unique    2921\n",
              "top        USA\n",
              "freq        91\n",
              "Name: location, dtype: object"
            ]
          },
          "metadata": {
            "tags": []
          },
          "execution_count": 29
        }
      ]
    },
    {
      "cell_type": "markdown",
      "metadata": {
        "id": "0m5238DAETR1"
      },
      "source": [
        "There are 221 unique keywords and 2921 unique locations. \\\\\n",
        "Let's have a look about the occurence of fake tweets related to their location and keyword.\n"
      ]
    },
    {
      "cell_type": "markdown",
      "metadata": {
        "id": "tS9ySxiIp003"
      },
      "source": [
        "For every keyword we plot the occurence of real and fake disasters."
      ]
    },
    {
      "cell_type": "code",
      "metadata": {
        "colab": {
          "base_uri": "https://localhost:8080/",
          "height": 1000
        },
        "id": "fXuWW_0AGXAA",
        "outputId": "3587d6be-ad30-4102-e178-348e5dfc1ca8"
      },
      "source": [
        "a = df.copy()\n",
        "a['target neg'] = 1 - a['target']\n",
        "a[\"location\"] = a[\"location\"]\n",
        "data = a.groupby(\"keyword\", as_index=False)[['target', 'target neg']].sum()\n",
        "\n",
        "x = data[\"keyword\"]\n",
        "y = data[\"target\"]\n",
        "z = data[\"target neg\"]\n",
        "\n",
        "validity=['True','Fake']\n",
        "pos = np.arange(len(x))\n",
        "\n",
        "fig = plt.figure(1, figsize=(10, 75))\n",
        "bar_width = 0.35\n",
        "\n",
        "plt.barh(pos-bar_width/2,y,bar_width,color='green',edgecolor='black')\n",
        "plt.barh(pos+bar_width/2,z,bar_width,color='red',edgecolor='black')\n",
        "plt.yticks(pos, x)\n",
        "\n",
        "plt.ylabel('Keyword', fontsize=16)\n",
        "plt.xlabel('True or Fake ?', fontsize=16)\n",
        "plt.title('Group Barchart - Validity of tweets by keyword',fontsize=18)\n",
        "plt.legend(validity,loc=2)\n",
        "\n",
        "plt.show()"
      ],
      "execution_count": null,
      "outputs": [
        {
          "output_type": "display_data",
          "data": {
            "image/png": "[encoded data removed]",
            "text/plain": [
              "<Figure size 720x5400 with 1 Axes>"
            ]
          },
          "metadata": {
            "tags": []
          }
        }
      ]
    },
    {
      "cell_type": "markdown",
      "metadata": {
        "id": "TahnUCusiONm"
      },
      "source": [
        "Here are the 15 most common locations for true and fake tweets about a disaster:"
      ]
    },
    {
      "cell_type": "code",
      "metadata": {
        "colab": {
          "base_uri": "https://localhost:8080/",
          "height": 475
        },
        "id": "C6-HJlkSa0sJ",
        "outputId": "a1a96c7f-7d8c-4012-b15d-668b7021960b"
      },
      "source": [
        "a = df.copy()\n",
        "a['target neg'] = 1 - a['target']\n",
        "data = a[['location','target', 'target neg']].groupby(['location']).sum()\n",
        "data.nlargest(15, \"target\").plot(kind = 'barh', y = 'target', ylabel = 'Number of true tweets', title = \"Top locations for true tweets\", legend = False, color = 'g')"
      ],
      "execution_count": null,
      "outputs": [
        {
          "output_type": "execute_result",
          "data": {
            "text/plain": [
              "<matplotlib.axes._subplots.AxesSubplot at 0x7fad9f4802e8>"
            ]
          },
          "metadata": {
            "tags": []
          },
          "execution_count": 31
        },
        {
          "output_type": "display_data",
          "data": {
            "image/png": "[encoded data removed]",
            "text/plain": [
              "<Figure size 748.8x514.8 with 1 Axes>"
            ]
          },
          "metadata": {
            "tags": []
          }
        }
      ]
    },
    {
      "cell_type": "code",
      "metadata": {
        "colab": {
          "base_uri": "https://localhost:8080/",
          "height": 475
        },
        "id": "4-qQ0QSxeVXz",
        "outputId": "d58bf156-5a41-4fb3-ba25-325900a360c7"
      },
      "source": [
        "data.nlargest(15, \"target neg\").plot(kind = 'barh', y = 'target neg',ylabel = 'Number of fake tweets', title = \"Top locations for fake tweets\", legend = False, color = 'r')"
      ],
      "execution_count": null,
      "outputs": [
        {
          "output_type": "execute_result",
          "data": {
            "text/plain": [
              "<matplotlib.axes._subplots.AxesSubplot at 0x7fad9bcd3470>"
            ]
          },
          "metadata": {
            "tags": []
          },
          "execution_count": 32
        },
        {
          "output_type": "display_data",
          "data": {
            "image/png": "[encoded data removed]",
            "text/plain": [
              "<Figure size 748.8x514.8 with 1 Axes>"
            ]
          },
          "metadata": {
            "tags": []
          }
        }
      ]
    },
    {
      "cell_type": "markdown",
      "metadata": {
        "id": "LuPwGSqFiZH3"
      },
      "source": [
        "Here are the 15 most common keywords for true and fake tweets about a disaster:"
      ]
    },
    {
      "cell_type": "code",
      "metadata": {
        "colab": {
          "base_uri": "https://localhost:8080/",
          "height": 475
        },
        "id": "Pks3tYzeigc3",
        "outputId": "528ffa88-8835-4e8a-b059-a48fe2c19451"
      },
      "source": [
        "a = df.copy()\n",
        "a['target neg'] = 1 - a['target']\n",
        "data = a[['keyword','target', 'target neg']].groupby(['keyword']).sum()\n",
        "data.nlargest(15, \"target\").plot(kind = 'barh', y = 'target',ylabel = 'Number of true tweets', title = \"Top keywords for true tweets\", legend = False, color = 'g')"
      ],
      "execution_count": null,
      "outputs": [
        {
          "output_type": "execute_result",
          "data": {
            "text/plain": [
              "<matplotlib.axes._subplots.AxesSubplot at 0x7fad9bc49cc0>"
            ]
          },
          "metadata": {
            "tags": []
          },
          "execution_count": 33
        },
        {
          "output_type": "display_data",
          "data": {
            "image/png": "[encoded data removed]",
            "text/plain": [
              "<Figure size 748.8x514.8 with 1 Axes>"
            ]
          },
          "metadata": {
            "tags": []
          }
        }
      ]
    },
    {
      "cell_type": "code",
      "metadata": {
        "colab": {
          "base_uri": "https://localhost:8080/",
          "height": 475
        },
        "id": "rtObrnoBihbf",
        "outputId": "e9c57d11-73c5-4453-cdae-b2c7c47200b3"
      },
      "source": [
        "data.nlargest(15, \"target neg\").plot(kind = 'barh', y = 'target neg', ylabel = 'Number of fake tweets', title = \"Top keywords for fake tweets\", legend = False,  color = 'r')"
      ],
      "execution_count": null,
      "outputs": [
        {
          "output_type": "execute_result",
          "data": {
            "text/plain": [
              "<matplotlib.axes._subplots.AxesSubplot at 0x7fad9bbe9940>"
            ]
          },
          "metadata": {
            "tags": []
          },
          "execution_count": 34
        },
        {
          "output_type": "display_data",
          "data": {
            "image/png": "[encoded data removed]",
            "text/plain": [
              "<Figure size 748.8x514.8 with 1 Axes>"
            ]
          },
          "metadata": {
            "tags": []
          }
        }
      ]
    },
    {
      "cell_type": "markdown",
      "metadata": {
        "id": "8hil7M-8pkus"
      },
      "source": [
        "Description of the variable \"id\":"
      ]
    },
    {
      "cell_type": "code",
      "metadata": {
        "id": "4N1HQlMtGUng",
        "colab": {
          "base_uri": "https://localhost:8080/"
        },
        "outputId": "9f529e8f-a936-42df-8b3c-9de2ea4e7f1b"
      },
      "source": [
        "df.id.describe()"
      ],
      "execution_count": null,
      "outputs": [
        {
          "output_type": "execute_result",
          "data": {
            "text/plain": [
              "count     6471.000000\n",
              "mean      5446.289600\n",
              "std       3139.343612\n",
              "min          1.000000\n",
              "25%       2731.000000\n",
              "50%       5450.000000\n",
              "75%       8161.500000\n",
              "max      10873.000000\n",
              "Name: id, dtype: float64"
            ]
          },
          "metadata": {
            "tags": []
          },
          "execution_count": 35
        }
      ]
    },
    {
      "cell_type": "markdown",
      "metadata": {
        "id": "Zi1DP8QmpUfl"
      },
      "source": [
        "Description of the variable \"text\":"
      ]
    },
    {
      "cell_type": "code",
      "metadata": {
        "id": "fSegZQWsGclv",
        "colab": {
          "base_uri": "https://localhost:8080/"
        },
        "outputId": "c3e72d32-779e-4ec4-fc1e-99322405cb69"
      },
      "source": [
        "df.text.describe()"
      ],
      "execution_count": null,
      "outputs": [
        {
          "output_type": "execute_result",
          "data": {
            "text/plain": [
              "count                                                  6471\n",
              "unique                                                 6387\n",
              "top       11-Year-Old Boy Charged With Manslaughter of T...\n",
              "freq                                                      9\n",
              "Name: text, dtype: object"
            ]
          },
          "metadata": {
            "tags": []
          },
          "execution_count": 36
        }
      ]
    },
    {
      "cell_type": "markdown",
      "metadata": {
        "id": "PS6EKlMzGiJ2"
      },
      "source": [
        "We can see that there is no problem with the id, every number is unique but we \n",
        "can see that some tweets appear several times, we may therefore have to eliminate duplicates to avoid weighting problems"
      ]
    },
    {
      "cell_type": "markdown",
      "metadata": {
        "id": "qtm0E3VTFOGh"
      },
      "source": [
        "## 2. First classifier: Logistic Regression \n"
      ]
    },
    {
      "cell_type": "markdown",
      "metadata": {
        "id": "_vJRwO6BOxEd"
      },
      "source": [
        "Firstly we use the entire data and don't do any feature engineering.\r\n",
        "We start with the basics: we split our data into train and test sets, then preprocess the tweets, and train a logistic regression on the training set.\r\n",
        "\r\n"
      ]
    },
    {
      "cell_type": "markdown",
      "metadata": {
        "id": "WtTIKExFPYfa"
      },
      "source": [
        "We will need to evaluate our models:"
      ]
    },
    {
      "cell_type": "code",
      "metadata": {
        "id": "SZDxg1ReMDEe"
      },
      "source": [
        "# A useful function for the future evaluations of our models\r\n",
        "def evaluate(true, pred):\r\n",
        "    precision = precision_score(true, pred)\r\n",
        "    recall = recall_score(true, pred)\r\n",
        "    f1 = f1_score(true, pred)\r\n",
        "    print(f\"Confusion Matrix:\\n{confusion_matrix(true, pred)}\")\r\n",
        "    print(f\"Accuracy Score:\\n{accuracy_score(true, pred):.4f}\")\r\n",
        "    print(f\"Classification Report:\\n\\tPrecision: {precision:.4f}\\n\\tRecall: {recall:.4f}\\n\\tF1_Score: {f1:.4f}\")"
      ],
      "execution_count": null,
      "outputs": []
    },
    {
      "cell_type": "markdown",
      "metadata": {
        "id": "m3nxcHyDQI7j"
      },
      "source": [
        "We split our data into train and test sets..."
      ]
    },
    {
      "cell_type": "code",
      "metadata": {
        "id": "2Y186ieopFQ0"
      },
      "source": [
        "# Select features\n",
        "X = df.text\n",
        "y = df.target"
      ],
      "execution_count": null,
      "outputs": []
    },
    {
      "cell_type": "code",
      "metadata": {
        "id": "L5ngQCibpRHK",
        "colab": {
          "base_uri": "https://localhost:8080/"
        },
        "outputId": "1b6fc176-08b2-4e6a-92fd-c489d8400452"
      },
      "source": [
        "#We fix the random state for future comparisons\n",
        "X_train, X_test, y_train, y_test = train_test_split(X, y, test_size=0.2, random_state = 23)\n",
        "print(X_train.values[8])\n",
        "print(\"The target is\",y_train.values[8], \", this isn't fake news!\")"
      ],
      "execution_count": null,
      "outputs": [
        {
          "output_type": "stream",
          "text": [
            "[JAX Biz Journal] FedEx stops shipping potential bioterror pathogens http://t.co/R33nCvjovC\n",
            "The target is 1 , this isn't fake news!\n"
          ],
          "name": "stdout"
        }
      ]
    },
    {
      "cell_type": "markdown",
      "metadata": {
        "id": "4wmpEXyyKKRm"
      },
      "source": [
        "...Then preprocess the tweets..."
      ]
    },
    {
      "cell_type": "code",
      "metadata": {
        "id": "o9nXIWJyKNh0"
      },
      "source": [
        "sp = spacy.load('en_core_web_sm')\n",
        "stop_words = spacy.lang.en.stop_words.STOP_WORDS\n",
        "punctuations = string.punctuation\n",
        "numbers = \"0123456789\""
      ],
      "execution_count": null,
      "outputs": []
    },
    {
      "cell_type": "code",
      "metadata": {
        "id": "fkmCJfiSL3L3"
      },
      "source": [
        "def spacy_tokenizer(text):\n",
        "    # Create spacy object\n",
        "    mytokens = sp(text)\n",
        "\n",
        "    # Lemmatize each token and convert each token into lowercase\n",
        "    mytokens = [ word.lemma_.lower().strip() if word.lemma_ != \"-PRON-\" else word.lower_ for word in mytokens ]\n",
        "\n",
        "    # Remove stop words, numbers and punctuation\n",
        "    mytokens = [ word for word in mytokens if word not in stop_words and word not in punctuations and word not in numbers ]\n",
        "\n",
        "    # Remove usernames and hashtags\n",
        "    mytokens_2 = []\n",
        "    for word in mytokens:\n",
        "      i = False\n",
        "      for letter in word :\n",
        "        if letter == '@' or letter == '#':\n",
        "            i = True\n",
        "      if not(i) :\n",
        "        mytokens_2.append(word)\n",
        "\n",
        "    # Return preprocessed list of tokens\n",
        "    return mytokens_2"
      ],
      "execution_count": null,
      "outputs": []
    },
    {
      "cell_type": "code",
      "metadata": {
        "colab": {
          "base_uri": "https://localhost:8080/"
        },
        "id": "UL9HehBDuQWe",
        "outputId": "11e98003-4ea1-4962-8764-7c3ab23d3244"
      },
      "source": [
        "spacy_tokenizer(X_train.values[8])"
      ],
      "execution_count": null,
      "outputs": [
        {
          "output_type": "execute_result",
          "data": {
            "text/plain": [
              "['jax',\n",
              " 'biz',\n",
              " 'journal',\n",
              " 'fedex',\n",
              " 'stop',\n",
              " 'ship',\n",
              " 'potential',\n",
              " 'bioterror',\n",
              " 'pathogen',\n",
              " 'http://t.co/r33ncvjovc']"
            ]
          },
          "metadata": {
            "tags": []
          },
          "execution_count": 55
        }
      ]
    },
    {
      "cell_type": "markdown",
      "metadata": {
        "id": "mbiHSNkbQSZQ"
      },
      "source": [
        "...And train a logistic regression (on the training part), with TF-IDF ."
      ]
    },
    {
      "cell_type": "code",
      "metadata": {
        "colab": {
          "base_uri": "https://localhost:8080/"
        },
        "id": "PdX2gJNhG6G7",
        "outputId": "c55c383c-0820-4f60-9625-bcaa0e74c1e0"
      },
      "source": [
        "# version 0: TFIDF, logistic regression without cross validation\r\n",
        "# Define the vectorizer\r\n",
        "tfidf = TfidfVectorizer(tokenizer=spacy_tokenizer)\r\n",
        "\r\n",
        "# Define the classifier\r\n",
        "classifier = LogisticRegression(solver='lbfgs', max_iter=2000)\r\n",
        "\r\n",
        "# Create pipeline\r\n",
        "pipe0 = Pipeline([('vectorizer', tfidf),\r\n",
        "                 ('classifier', classifier)])\r\n",
        "\r\n",
        "# Fit model on training set\r\n",
        "pipe0.fit(X_train, y_train)\r\n",
        "\r\n",
        "#Evaluate\r\n",
        "y_train_pred = pipe0.predict(X_train)\r\n",
        "y_test_pred = pipe0.predict(X_test)\r\n",
        "print(\"Training Set: \")\r\n",
        "evaluate(y_train,y_train_pred)\r\n",
        "print(\"Validation Set: \")\r\n",
        "evaluate(y_test,y_test_pred)"
      ],
      "execution_count": null,
      "outputs": [
        {
          "output_type": "stream",
          "text": [
            "Training Set: \n",
            "CONFUSION MATRIX:\n",
            "[[2872   82]\n",
            " [ 488 1734]]\n",
            "ACCURACY SCORE:\n",
            "0.8899\n",
            "CLASSIFICATION REPORT:\n",
            "\tPrecision: 0.9548\n",
            "\tRecall: 0.7804\n",
            "\tF1_Score: 0.8588\n",
            "Validation Set: \n",
            "CONFUSION MATRIX:\n",
            "[[672  75]\n",
            " [170 378]]\n",
            "ACCURACY SCORE:\n",
            "0.8108\n",
            "CLASSIFICATION REPORT:\n",
            "\tPrecision: 0.8344\n",
            "\tRecall: 0.6898\n",
            "\tF1_Score: 0.7552\n"
          ],
          "name": "stdout"
        }
      ]
    },
    {
      "cell_type": "code",
      "metadata": {
        "id": "RtrTkxD1zhQs",
        "colab": {
          "base_uri": "https://localhost:8080/"
        },
        "outputId": "0065a758-76f0-487d-e172-f2406935c53c"
      },
      "source": [
        "#Version 1:TFIDF, logistic regression with cross validation\n",
        "# Define the vectorizer\n",
        "tfidf = TfidfVectorizer(tokenizer=spacy_tokenizer)\n",
        "\n",
        "# Define the classifier\n",
        "classifier = LogisticRegressionCV(solver='lbfgs', cv=5, max_iter=2000)\n",
        "\n",
        "# Create pipeline\n",
        "pipe1 = Pipeline([('vectorizer', tfidf),\n",
        "                 ('classifier', classifier)])\n",
        "# Fit model on training set\n",
        "pipe1.fit(X_train, y_train)\n",
        "\n",
        "#Evaluate\n",
        "y_train_pred = pipe1.predict(X_train)\n",
        "y_test_pred = pipe1.predict(X_test)\n",
        "print(\"Training Set: \")\n",
        "evaluate(y_train,y_train_pred)\n",
        "print(\"Validation Set: \")\n",
        "evaluate(y_test,y_test_pred)"
      ],
      "execution_count": null,
      "outputs": [
        {
          "output_type": "stream",
          "text": [
            "Training Set: \n",
            "CONFUSION MATRIX:\n",
            "[[2892   62]\n",
            " [ 242 1980]]\n",
            "ACCURACY SCORE:\n",
            "0.9413\n",
            "CLASSIFICATION REPORT:\n",
            "\tPrecision: 0.9696\n",
            "\tRecall: 0.8911\n",
            "\tF1_Score: 0.9287\n",
            "Validation Set: \n",
            "CONFUSION MATRIX:\n",
            "[[661  86]\n",
            " [153 395]]\n",
            "ACCURACY SCORE:\n",
            "0.8154\n",
            "CLASSIFICATION REPORT:\n",
            "\tPrecision: 0.8212\n",
            "\tRecall: 0.7208\n",
            "\tF1_Score: 0.7677\n"
          ],
          "name": "stdout"
        }
      ]
    },
    {
      "cell_type": "markdown",
      "metadata": {
        "id": "KkIyHt6RURDT"
      },
      "source": [
        "Obviously, it is better to use cross-validation, but it seems that the model may be overfitted. We can export our first submission."
      ]
    },
    {
      "cell_type": "markdown",
      "metadata": {
        "id": "eY2m0ali-PAK"
      },
      "source": [
        "#### Export first submission"
      ]
    },
    {
      "cell_type": "code",
      "metadata": {
        "id": "oC5vwChj2XqB"
      },
      "source": [
        "y_predpred = pd.Series(pipe.predict(test_df.text))"
      ],
      "execution_count": null,
      "outputs": []
    },
    {
      "cell_type": "code",
      "metadata": {
        "id": "FZMIQHFA2hoS"
      },
      "source": [
        "from google.colab import drive\n",
        "drive.mount('/drive')"
      ],
      "execution_count": null,
      "outputs": []
    },
    {
      "cell_type": "code",
      "metadata": {
        "id": "klW5R32kBOd3"
      },
      "source": [
        "y_predpred.rename('target').to_csv('/drive/My Drive/Colab Notebooks/1st_submission.csv', index = False)"
      ],
      "execution_count": null,
      "outputs": []
    },
    {
      "cell_type": "markdown",
      "metadata": {
        "id": "CBJGzGrhq8w7"
      },
      "source": [
        "## 3. First Ideas for improving accuracy"
      ]
    },
    {
      "cell_type": "markdown",
      "metadata": {
        "id": "YU61-aoeWykm"
      },
      "source": [
        "We will try some basic ideas for improving accuracy on our logistic regression model: balancing the data between true and fake tweets, removing duplicates, optimizing the hyperparameters of the TF-IDF and Logistic Regression."
      ]
    },
    {
      "cell_type": "markdown",
      "metadata": {
        "id": "dSmd65c4H-jG"
      },
      "source": [
        "First let's remove the duplicated tweets :"
      ]
    },
    {
      "cell_type": "code",
      "metadata": {
        "id": "7L42e5ZXFTYM",
        "colab": {
          "base_uri": "https://localhost:8080/"
        },
        "outputId": "2e29f4c7-dc9a-4f10-b120-f26877fd408d"
      },
      "source": [
        "df_drop = df.drop_duplicates(subset = \"text\", keep = \"first\", inplace=False)\n",
        "df_drop.text.describe()"
      ],
      "execution_count": null,
      "outputs": [
        {
          "output_type": "execute_result",
          "data": {
            "text/plain": [
              "count                                                  6387\n",
              "unique                                                 6387\n",
              "top       Residents in the central part of Ocean City he...\n",
              "freq                                                      1\n",
              "Name: text, dtype: object"
            ]
          },
          "metadata": {
            "tags": []
          },
          "execution_count": 60
        }
      ]
    },
    {
      "cell_type": "code",
      "metadata": {
        "id": "k2u2SB5D_GC3",
        "colab": {
          "base_uri": "https://localhost:8080/"
        },
        "outputId": "35fc0afd-259c-46b5-da73-395bf5c4119b"
      },
      "source": [
        "#Select Features and split data\n",
        "X = df_drop.text\n",
        "y = df_drop.target\n",
        "X_train, X_test, y_train, y_test = train_test_split(X, y, test_size=0.2, random_state = 23)\n",
        "\n",
        "#Define TFIDF, classifier and pipe\n",
        "tfidf = TfidfVectorizer(tokenizer=spacy_tokenizer)\n",
        "classifier = LogisticRegressionCV(solver='lbfgs', cv=5, max_iter=2000)\n",
        "pipedrop = Pipeline([('vectorizer', tfidf),\n",
        "                 ('classifier', classifier)])\n",
        "pipedrop.fit(X_train, y_train)\n",
        "\n",
        "#Evaluate\n",
        "y_train_pred = pipedrop.predict(X_train)\n",
        "y_test_pred = pipedrop.predict(X_test)\n",
        "print(\"Training Set: \")\n",
        "evaluate(y_train,y_train_pred)\n",
        "print(\"Validation Set: \")\n",
        "evaluate(y_test,y_test_pred)"
      ],
      "execution_count": null,
      "outputs": [
        {
          "output_type": "stream",
          "text": [
            "Training Set: \n",
            "CONFUSION MATRIX:\n",
            "[[2874   54]\n",
            " [ 240 1941]]\n",
            "ACCURACY SCORE:\n",
            "0.9425\n",
            "CLASSIFICATION REPORT:\n",
            "\tPrecision: 0.9729\n",
            "\tRecall: 0.8900\n",
            "\tF1_Score: 0.9296\n",
            "Validation Set: \n",
            "CONFUSION MATRIX:\n",
            "[[645 103]\n",
            " [151 379]]\n",
            "ACCURACY SCORE:\n",
            "0.8013\n",
            "CLASSIFICATION REPORT:\n",
            "\tPrecision: 0.7863\n",
            "\tRecall: 0.7151\n",
            "\tF1_Score: 0.7490\n"
          ],
          "name": "stdout"
        }
      ]
    },
    {
      "cell_type": "markdown",
      "metadata": {
        "id": "Hvjj1rZaCJo7"
      },
      "source": [
        "It seems to decrease the accuracy, therefore we should not keep this idea."
      ]
    },
    {
      "cell_type": "markdown",
      "metadata": {
        "id": "H2PSu3mrCTkp"
      },
      "source": [
        "We can create a balanced dataframe with base rate = 0.5\n"
      ]
    },
    {
      "cell_type": "code",
      "metadata": {
        "id": "3XIXrguurYw5",
        "colab": {
          "base_uri": "https://localhost:8080/"
        },
        "outputId": "ae54e2b6-20a9-4a72-bc3d-a7ccbfddcdc0"
      },
      "source": [
        "df_balanced = pd.concat([df[df[\"target\"] == 0].sample(len(df[df[\"target\"] == 1])), df[df[\"target\"] == 1]], axis=0).reset_index()\n",
        "df_balanced.target.value_counts()"
      ],
      "execution_count": null,
      "outputs": [
        {
          "output_type": "execute_result",
          "data": {
            "text/plain": [
              "1    2770\n",
              "0    2770\n",
              "Name: target, dtype: int64"
            ]
          },
          "metadata": {
            "tags": []
          },
          "execution_count": 62
        }
      ]
    },
    {
      "cell_type": "code",
      "metadata": {
        "id": "AwE37_lgCfYG",
        "colab": {
          "base_uri": "https://localhost:8080/"
        },
        "outputId": "da4b8575-8bed-4a90-f870-ffa3e246515c"
      },
      "source": [
        "#Select Features and split data\n",
        "X = df_balanced.text\n",
        "y = df_balanced.target\n",
        "X_train, X_test, y_train, y_test = train_test_split(X, y, test_size=0.2, random_state = 23)\n",
        "\n",
        "#Define TFIDF, classifier and pipe\n",
        "tfidf = TfidfVectorizer(tokenizer=spacy_tokenizer)\n",
        "classifier = LogisticRegressionCV(solver='lbfgs', cv=5, max_iter=2000)\n",
        "pipebalanced = Pipeline([('vectorizer', tfidf),\n",
        "                 ('classifier', classifier)])\n",
        "pipebalanced.fit(X_train, y_train)\n",
        "\n",
        "#Evaluate\n",
        "y_train_pred = pipebalanced.predict(X_train)\n",
        "y_test_pred = pipebalanced.predict(X_test)\n",
        "print(\"Training Set: \")\n",
        "evaluate(y_train,y_train_pred)\n",
        "print(\"Validation Set: \")\n",
        "evaluate(y_test,y_test_pred)"
      ],
      "execution_count": null,
      "outputs": [
        {
          "output_type": "stream",
          "text": [
            "Training Set: \n",
            "CONFUSION MATRIX:\n",
            "[[2020  185]\n",
            " [ 374 1853]]\n",
            "ACCURACY SCORE:\n",
            "0.8739\n",
            "CLASSIFICATION REPORT:\n",
            "\tPrecision: 0.9092\n",
            "\tRecall: 0.8321\n",
            "\tF1_Score: 0.8689\n",
            "Validation Set: \n",
            "CONFUSION MATRIX:\n",
            "[[456 109]\n",
            " [135 408]]\n",
            "ACCURACY SCORE:\n",
            "0.7798\n",
            "CLASSIFICATION REPORT:\n",
            "\tPrecision: 0.7892\n",
            "\tRecall: 0.7514\n",
            "\tF1_Score: 0.7698\n"
          ],
          "name": "stdout"
        }
      ]
    },
    {
      "cell_type": "markdown",
      "metadata": {
        "id": "PqVzKP0LEJSP"
      },
      "source": [
        "It seems to heavily decrease the accuracy, therefore we won't keep this idea.\r\n",
        "\r\n"
      ]
    },
    {
      "cell_type": "markdown",
      "metadata": {
        "id": "Jg2nPeUTxa2S"
      },
      "source": [
        "### Improve the TF-IDF Vector"
      ]
    },
    {
      "cell_type": "markdown",
      "metadata": {
        "id": "YBw2Wjb3IJrM"
      },
      "source": [
        "Then, we can optimize the configuration of the tfidf-vector by trying relevants configurations:"
      ]
    },
    {
      "cell_type": "code",
      "metadata": {
        "id": "D8JLOz2Mr3Gq"
      },
      "source": [
        "#Select Features and split data\n",
        "X = df.text\n",
        "y = df.target\n",
        "X_train, X_test, y_train, y_test = train_test_split(X, y, test_size=0.2, random_state = 23)"
      ],
      "execution_count": null,
      "outputs": []
    },
    {
      "cell_type": "code",
      "metadata": {
        "id": "ktvQzxHVgc8t",
        "colab": {
          "base_uri": "https://localhost:8080/"
        },
        "outputId": "d14eefae-4bfa-434d-b7de-36738cd54a4b"
      },
      "source": [
        "# Create list of configs\n",
        "configs = []\n",
        "# Define config lists\n",
        "ngram_range = [(1,1), (1,2), (1, 3), (1,4), (2, 2), (2, 3), (2,4), (3, 3), (3,4), (4,4)]\n",
        "min_df = [1,2,3]\n",
        "max_df = [1.0, 0.95]\n",
        "analyzer=['word', 'char']\n",
        "sublinear_tf = [True, False]\n",
        "\n",
        "# Create config instances\n",
        "for n in ngram_range:\n",
        "  for i in min_df:\n",
        "    for j in max_df:\n",
        "      for a in analyzer:\n",
        "        for b in sublinear_tf:\n",
        "          configs.append([n, i, j, a, b])\n",
        "\n",
        "configs[:10]"
      ],
      "execution_count": null,
      "outputs": [
        {
          "output_type": "execute_result",
          "data": {
            "text/plain": [
              "[[(1, 1), 1, 1.0, 'word', True],\n",
              " [(1, 1), 1, 1.0, 'word', False],\n",
              " [(1, 1), 1, 1.0, 'char', True],\n",
              " [(1, 1), 1, 1.0, 'char', False],\n",
              " [(1, 1), 1, 0.95, 'word', True],\n",
              " [(1, 1), 1, 0.95, 'word', False],\n",
              " [(1, 1), 1, 0.95, 'char', True],\n",
              " [(1, 1), 1, 0.95, 'char', False],\n",
              " [(1, 1), 2, 1.0, 'word', True],\n",
              " [(1, 1), 2, 1.0, 'word', False]]"
            ]
          },
          "metadata": {
            "tags": []
          },
          "execution_count": 65
        }
      ]
    },
    {
      "cell_type": "markdown",
      "metadata": {
        "id": "v1ZkDanvfMPO"
      },
      "source": [
        "Don't run this code, it takes 2 hours, just trust the saved output:"
      ]
    },
    {
      "cell_type": "code",
      "metadata": {
        "id": "8Z-mXrQ8glRy"
      },
      "source": [
        "# Define list for result\n",
        "result = []\n",
        "\n",
        "for config in configs:\n",
        "    # Redefine vectorizer\n",
        "    tfidf_vector = TfidfVectorizer(tokenizer=spacy_tokenizer, \n",
        "                                   ngram_range=config[0],\n",
        "                                   min_df=config[1], max_df=config[2], analyzer=config[3],sublinear_tf= config[4])\n",
        "\n",
        "    # Define classifier\n",
        "    classifier = LogisticRegressionCV(solver='lbfgs', cv=5, max_iter=2000)\n",
        "\n",
        "    # Create pipeline\n",
        "    pipetfidf = Pipeline([('vectorizer', tfidf_vector),\n",
        "                 ('classifier', classifier)])\n",
        "\n",
        "    # Fit model on training set\n",
        "    pipetfidf.fit(X_train, y_train)\n",
        "\n",
        "    # Predictions\n",
        "    y_pred = pipetfidf.predict(X_test)\n",
        "\n",
        "    # Print accuracy on test set\n",
        "    print(\"CONFIG: \", config)\n",
        "    evaluate(y_test, y_pred)\n",
        "    print(\"-----------------------\")\n",
        "\n",
        "    # Append to result\n",
        "    result.append([config, accuracy_score(y_test, y_pred)])"
      ],
      "execution_count": null,
      "outputs": []
    },
    {
      "cell_type": "code",
      "metadata": {
        "id": "1rmLXKXQpGyi"
      },
      "source": [
        "from operator import itemgetter \n",
        "best8  = sorted(result, key =itemgetter(1))[-8:]\n",
        "print('The 8 best configurations for the TF-IDF vectorizer are:')\n",
        "for i in range(len(best8)):\n",
        "  print(str(best8[i][0]) + ' with an accuracy of ' + str(round(best8[i][1],4)) + ' on the test part of our training data.')"
      ],
      "execution_count": null,
      "outputs": []
    },
    {
      "cell_type": "markdown",
      "metadata": {
        "id": "-du0wkoIdv_x"
      },
      "source": [
        "We notice that the eighth best is the default configuration of the tf-idf vectorizer.\n",
        "\n",
        "It seems that the best parameters for the tf-idf are [(3, 4), 2, 0.95, 'char', True] and [(3, 4), 2, 1.0, 'char', True]. We will keep the second ones thereafter because the max_df parameter is higher, therefore it keeps more information in the tf-idf, and it will be less prone to cause problems in the future."
      ]
    },
    {
      "cell_type": "markdown",
      "metadata": {
        "id": "kho3a5HSw2Z2"
      },
      "source": [
        "####Export "
      ]
    },
    {
      "cell_type": "code",
      "metadata": {
        "id": "aRe3z4KTWHd-",
        "colab": {
          "base_uri": "https://localhost:8080/"
        },
        "outputId": "57545f2b-b124-4901-85cc-f353b5e3d3bc"
      },
      "source": [
        "#best tfidf config\n",
        "config =  [(3, 4), 2, 1.0, 'char', True]\n",
        "tfidf_vector = TfidfVectorizer(tokenizer=spacy_tokenizer, ngram_range=config[0], min_df=config[1], max_df=config[2], analyzer=config[3], sublinear_tf= config[4])\n",
        "\n",
        "classifier = LogisticRegressionCV(solver='lbfgs', cv=5, max_iter=2000)\n",
        "\n",
        "pipe = Pipeline([('vectorizer', tfidf_vector), ('classifier', classifier)])\n",
        "\n",
        "pipe.fit(X_train, y_train)\n",
        "y_pred=pipe.predict(X_test)\n",
        "print(f\"ACCURACY SCORE:\\n{accuracy_score(y_test, y_pred):.4f}\")"
      ],
      "execution_count": null,
      "outputs": [
        {
          "output_type": "stream",
          "text": [
            "ACCURACY SCORE:\n",
            "0.8052\n"
          ],
          "name": "stdout"
        }
      ]
    },
    {
      "cell_type": "code",
      "metadata": {
        "id": "Xik6zdJCxI7c"
      },
      "source": [
        "from google.colab import drive\n",
        "drive.mount('/drive')"
      ],
      "execution_count": null,
      "outputs": []
    },
    {
      "cell_type": "code",
      "metadata": {
        "id": "fPAEgDsd_lel"
      },
      "source": [
        "bettersubmission = pd.Series(pipe.predict(test_df.text))\n",
        "bettersubmission.rename('target').to_csv('/drive/My Drive/Colab Notebooks/bettersubmission.csv', index = False)"
      ],
      "execution_count": null,
      "outputs": []
    },
    {
      "cell_type": "markdown",
      "metadata": {
        "id": "UIwtoN83xDQf"
      },
      "source": [
        "### Optimize the parameters of the logistic regression"
      ]
    },
    {
      "cell_type": "markdown",
      "metadata": {
        "id": "0M20-kZpF2nA"
      },
      "source": [
        "Before using another classifier, we can try to optimize the parameters of the logistic regression:"
      ]
    },
    {
      "cell_type": "code",
      "metadata": {
        "id": "u4ATwyAjF2Vf",
        "colab": {
          "base_uri": "https://localhost:8080/"
        },
        "outputId": "f8b928a7-8405-4850-aad7-7e3f8a9b971b"
      },
      "source": [
        "# Create list of configs\n",
        "configlog = []\n",
        "\n",
        "# Define config lists, hiden one were irrelevant, and only extending the duration of running of the code (but we tried them)\n",
        "cv = [3,5,7,9]\n",
        "#penalty = ['l2', 'elasticnet'] #l2 goes only with lbfgs and elasticnet goes only with saga\n",
        "#solver = ['lbfgs', 'saga']\n",
        "max_iter = [3000,8000,20000]\n",
        "class_weight = ['balanced', None]\n",
        "#l1_ratios = [0, 0.5, 1] #only when penalty == elasticnet\n",
        "\n",
        "# Create config instances\n",
        "for n in cv:\n",
        "  for m in max_iter:\n",
        "    for c in class_weight:\n",
        "        configlog.append([n, m, c])\n",
        "\n",
        "configlog[:10]"
      ],
      "execution_count": null,
      "outputs": [
        {
          "output_type": "execute_result",
          "data": {
            "text/plain": [
              "[[3, 3000, 'balanced'],\n",
              " [3, 3000, None],\n",
              " [3, 8000, 'balanced'],\n",
              " [3, 8000, None],\n",
              " [3, 20000, 'balanced'],\n",
              " [3, 20000, None],\n",
              " [5, 3000, 'balanced'],\n",
              " [5, 3000, None],\n",
              " [5, 8000, 'balanced'],\n",
              " [5, 8000, None]]"
            ]
          },
          "metadata": {
            "tags": []
          },
          "execution_count": 97
        }
      ]
    },
    {
      "cell_type": "code",
      "metadata": {
        "id": "_JnQzV-XwUGP"
      },
      "source": [
        "# Define list for result\n",
        "resultlog = []\n",
        "#Best configuration for tf-idf\n",
        "configtf =  [(3, 4), 2, 1.0, 'char', True]\n",
        "tfidf_vector = TfidfVectorizer(tokenizer=spacy_tokenizer, ngram_range=configtf[0], min_df=configtf[1], max_df=configtf[2], analyzer=configtf[3], sublinear_tf= configtf[4])\n",
        "\n",
        "for config in configlog:\n",
        "\n",
        "    # Define classifier\n",
        "    classifier = LogisticRegressionCV(cv = config[0], solver = 'lbfgs', max_iter = config[1], class_weight = config[2])\n",
        "\n",
        "    # Create pipeline\n",
        "    pipelog = Pipeline([('vectorizer', tfidf_vector),\n",
        "                 ('classifier', classifier)])\n",
        "\n",
        "    # Fit model on training set\n",
        "    pipelog.fit(X_train, y_train)\n",
        "\n",
        "    # Predictions\n",
        "    y_pred = pipelog.predict(X_test)\n",
        "\n",
        "    # Print accuracy on test set\n",
        "    print(\"CONFIG: \", config)\n",
        "    evaluate(y_test, y_pred)\n",
        "    print(\"-----------------------\")\n",
        "\n",
        "    # Append to result\n",
        "    resultlog.append([config, accuracy_score(y_test, y_pred)])"
      ],
      "execution_count": null,
      "outputs": []
    },
    {
      "cell_type": "code",
      "metadata": {
        "id": "JfqDbASFxv1V"
      },
      "source": [
        "best15  = sorted(resultlog, key =itemgetter(1))[-15:]\n",
        "print('The 15 best configurations for the logistic regression are:')\n",
        "for i in range(len(best15)):\n",
        "  print(str(best15[i][0]) + ' with an accuracy of ' + str(round(best15[i][1],4)) + ' on the test part of our training data.')"
      ],
      "execution_count": null,
      "outputs": []
    },
    {
      "cell_type": "markdown",
      "metadata": {
        "id": "hNmJdlqwJL0U"
      },
      "source": [
        "The 12 best results all have the same accuracy, we made no visible improvement from the default configuration. But we can try a submission with the best configuration. We will keep [9,20000,None] because it is the most general one, therefore it should cause less problems. \n",
        "\n",
        "Then we shall use other classifiers. "
      ]
    },
    {
      "cell_type": "markdown",
      "metadata": {
        "id": "F7IthvPyKonD"
      },
      "source": [
        "####Export"
      ]
    },
    {
      "cell_type": "code",
      "metadata": {
        "id": "1CRbJ8tuKz7L"
      },
      "source": [
        "X = df_new.text\n",
        "y = df_new.target\n",
        "configtf =  [(3, 4), 2, 1.0, 'char', True]\n",
        "tfidf_vector = TfidfVectorizer(tokenizer=spacy_tokenizer, ngram_range=configtf[0], min_df=configtf[1], max_df=configtf[2], analyzer=configtf[3], sublinear_tf= configtf[4])\n",
        "classifier = LogisticRegressionCV(solver='lbfgs', cv=9, max_iter=20000)\n",
        "pipe = Pipeline([('vectorizer', tfidf),\n",
        "                 ('classifier', classifier)])\n",
        "pipe.fit(X, y)"
      ],
      "execution_count": null,
      "outputs": []
    },
    {
      "cell_type": "code",
      "metadata": {
        "id": "hr2TysmiLksp"
      },
      "source": [
        "from google.colab import drive\n",
        "drive.mount('/drive')"
      ],
      "execution_count": null,
      "outputs": []
    },
    {
      "cell_type": "code",
      "metadata": {
        "id": "GM-Su4M6Llaj"
      },
      "source": [
        "logregsubmission = pd.Series(pipe.predict(test_df.text))\n",
        "logregsubmission.rename('target').to_csv('/drive/My Drive/Colab Notebooks/submission.csv', index = False)"
      ],
      "execution_count": null,
      "outputs": []
    },
    {
      "cell_type": "markdown",
      "metadata": {
        "id": "h4lyCsF1RSMd"
      },
      "source": [
        "### Tuning Logistic Regression hyper parameters with GridSearchCV"
      ]
    },
    {
      "cell_type": "markdown",
      "metadata": {
        "id": "x5y7FzEjtkal"
      },
      "source": [
        "This is the same optimisation, with GridSearchCV, it is better but longer to run"
      ]
    },
    {
      "cell_type": "code",
      "metadata": {
        "colab": {
          "base_uri": "https://localhost:8080/"
        },
        "id": "d3dqdKHURRY9",
        "outputId": "4bd19598-f873-4863-d3f2-ab041392c554"
      },
      "source": [
        "X_train_vec = tfidf.fit_transform(X_train).toarray()\r\n",
        "print(X_train_vec.shape)\r\n",
        "X_train_vec\r\n",
        "\r\n",
        "X_test_vec =tfidf.transform(X_test).toarray()\r\n",
        "print(X_test_vec.shape)\r\n",
        "X_test_vec \r\n",
        "\r\n",
        "grid={'solver': ('lbfgs', 'saga'), 'C':[1, 10]}\r\n",
        "classifier_6=LogisticRegression(max_iter=2000)\r\n",
        "classifier_6_cv=GridSearchCV(classifier_6, grid, cv=5)\r\n",
        "classifier_6_cv.fit(X_train_vec, y_train)\r\n",
        "# Print results\r\n",
        "print('Hyperparameters:', classifier_6_cv.best_params_)\r\n",
        "print('Train core:', classifier_6_cv.best_score_)\r\n",
        "print('Test score:', classifier_6_cv.score(X_test_vec, y_test))"
      ],
      "execution_count": null,
      "outputs": [
        {
          "output_type": "stream",
          "text": [
            "(5109, 13720)\n",
            "(1278, 13720)\n",
            "Hyperparameters: {'C': 1, 'solver': 'lbfgs'}\n",
            "Train core: 0.784890872882769\n",
            "Test score: 0.8043818466353677\n"
          ],
          "name": "stdout"
        }
      ]
    },
    {
      "cell_type": "markdown",
      "metadata": {
        "id": "zZ07tfXZLjae"
      },
      "source": [
        "##4. Second classifier: Random forest"
      ]
    },
    {
      "cell_type": "markdown",
      "metadata": {
        "id": "JYEQfSl9Y3TL"
      },
      "source": [
        "We will do the same work as for logistic regression, using the parameters for the TF-IDF that seemed to be the best."
      ]
    },
    {
      "cell_type": "markdown",
      "metadata": {
        "id": "HrPc7GqF9rVp"
      },
      "source": [
        "###Basic random forest classifier:"
      ]
    },
    {
      "cell_type": "code",
      "metadata": {
        "id": "jao6xlerZ38C"
      },
      "source": [
        "from sklearn.ensemble import RandomForestClassifier"
      ],
      "execution_count": null,
      "outputs": []
    },
    {
      "cell_type": "code",
      "metadata": {
        "id": "T5F99M6UgGlu"
      },
      "source": [
        "#Select features and split data\n",
        "X = df.text\n",
        "y = df.target\n",
        "X_train, X_test, y_train, y_test = train_test_split(X, y, test_size=0.2, random_state = 23)"
      ],
      "execution_count": null,
      "outputs": []
    },
    {
      "cell_type": "code",
      "metadata": {
        "id": "LQyVrKnoiRpp",
        "colab": {
          "base_uri": "https://localhost:8080/"
        },
        "outputId": "bde1a6ba-7333-41ae-97e5-9b0df1fc18b2"
      },
      "source": [
        "# Define classifier\n",
        "classifier = RandomForestClassifier(n_estimators=50, random_state = 23)\n",
        "\n",
        "#Best configuration for tf-idf\n",
        "configtf =  [(3, 4), 2, 1.0, 'char', True]\n",
        "tfidf_vector = TfidfVectorizer(tokenizer=spacy_tokenizer, ngram_range=configtf[0], min_df=configtf[1], max_df=configtf[2], analyzer=configtf[3], sublinear_tf= configtf[4])\n",
        "\n",
        "# Create pipeline\n",
        "piperf = Pipeline([('vectorizer', tfidf_vector),\n",
        "                 ('classifier', classifier)])\n",
        "\n",
        "# Generate Model on training set\n",
        "piperf.fit(X_train, y_train)\n",
        "\n",
        "#Evaluation\n",
        "y_train_pred = piperf.predict(X_train)\n",
        "y_test_pred = piperf.predict(X_test)\n",
        "print(\"Training Set: \")\n",
        "evaluate(y_train,y_train_pred)\n",
        "print(\"Validation Set: \")\n",
        "evaluate(y_test,y_test_pred)"
      ],
      "execution_count": null,
      "outputs": [
        {
          "output_type": "stream",
          "text": [
            "Training Set: \n",
            "CONFUSION MATRIX:\n",
            "[[2949    5]\n",
            " [   5 2217]]\n",
            "ACCURACY SCORE:\n",
            "0.9981\n",
            "CLASSIFICATION REPORT:\n",
            "\tPrecision: 0.9977\n",
            "\tRecall: 0.9977\n",
            "\tF1_Score: 0.9977\n",
            "Validation Set: \n",
            "CONFUSION MATRIX:\n",
            "[[642 105]\n",
            " [188 360]]\n",
            "ACCURACY SCORE:\n",
            "0.7737\n",
            "CLASSIFICATION REPORT:\n",
            "\tPrecision: 0.7742\n",
            "\tRecall: 0.6569\n",
            "\tF1_Score: 0.7108\n"
          ],
          "name": "stdout"
        }
      ]
    },
    {
      "cell_type": "markdown",
      "metadata": {
        "id": "AyFLmCkMuGvx"
      },
      "source": [
        "This is clearly overfitted."
      ]
    },
    {
      "cell_type": "code",
      "metadata": {
        "id": "UHEgVo5EZIKe"
      },
      "source": [
        "classifier = RandomForestClassifier(n_estimators=50)\n",
        "\n",
        "# Create pipeline\n",
        "pipe = Pipeline([('vectorizer', tfidf_vector),\n",
        "                 ('classifier', classifier)])\n",
        "\n",
        "# Generate Model on training set\n",
        "pipe.fit(X, y)\n",
        "\n",
        "rfsubmission = pd.Series(pipe.predict(test_df.text))\n",
        "rfsubmission.rename('target').to_csv('/drive/My Drive/Colab Notebooks/rfsubmission.csv', index = False)"
      ],
      "execution_count": null,
      "outputs": []
    },
    {
      "cell_type": "markdown",
      "metadata": {
        "id": "K7RL3pPW90jQ"
      },
      "source": [
        "###Optimizing Random Forest Classifier:"
      ]
    },
    {
      "cell_type": "code",
      "metadata": {
        "id": "2AViQ_hcPYaz",
        "colab": {
          "base_uri": "https://localhost:8080/"
        },
        "outputId": "b83f9c3b-a99c-4840-bf86-28405f8027e3"
      },
      "source": [
        "# Create list of configs\n",
        "configrfc = []\n",
        "# Define config lists\n",
        "n_estimators = [10,50,100,500]\n",
        "criterion = ['gini', 'entropy']\n",
        "max_depth = [10,100,500,1000]\n",
        "bootstrap = [True, False]\n",
        "max_samples = [100,500,1000,2000] #if bootstrap is true\n",
        "class_weight = [None, 'balanced_subsample'] #balanced_subsample only if bootstrap is true\n",
        "oob_score = [True, False] # only if bootstrap = true\n",
        "max_features = ['sqrt', 'log2', None]\n",
        "\n",
        "# Create config instances\n",
        "for n in n_estimators:\n",
        "  for c in criterion:\n",
        "    for md in max_depth:\n",
        "      for mf in max_features:\n",
        "          for b in bootstrap:\n",
        "            if b:\n",
        "              for m in max_samples:\n",
        "                for cw in class_weight:\n",
        "                  for o in oob_score:\n",
        "                    configrfc.append([n,c,md,o,mf,b,m,cw])\n",
        "            else:\n",
        "              configrfc.append([n,c,md,False,mf,b,None,None])\n",
        "\n",
        "configrfc[:10]"
      ],
      "execution_count": null,
      "outputs": [
        {
          "output_type": "execute_result",
          "data": {
            "text/plain": [
              "[[10, 'gini', 10, True, 'sqrt', True, 100, None],\n",
              " [10, 'gini', 10, False, 'sqrt', True, 100, None],\n",
              " [10, 'gini', 10, True, 'sqrt', True, 100, 'balanced_subsample'],\n",
              " [10, 'gini', 10, False, 'sqrt', True, 100, 'balanced_subsample'],\n",
              " [10, 'gini', 10, True, 'sqrt', True, 500, None],\n",
              " [10, 'gini', 10, False, 'sqrt', True, 500, None],\n",
              " [10, 'gini', 10, True, 'sqrt', True, 500, 'balanced_subsample'],\n",
              " [10, 'gini', 10, False, 'sqrt', True, 500, 'balanced_subsample'],\n",
              " [10, 'gini', 10, True, 'sqrt', True, 1000, None],\n",
              " [10, 'gini', 10, False, 'sqrt', True, 1000, None]]"
            ]
          },
          "metadata": {
            "tags": []
          },
          "execution_count": 116
        }
      ]
    },
    {
      "cell_type": "markdown",
      "metadata": {
        "id": "NOHoJ6SxdGPR"
      },
      "source": [
        "Don't run this code, it takes hours, just trust the saved output:"
      ]
    },
    {
      "cell_type": "code",
      "metadata": {
        "id": "KEudAVUJPbhU"
      },
      "source": [
        "# Define list for result\n",
        "resultrfc = []\n",
        "#Best configuration for tf-idf\n",
        "configtf =  [(3, 4), 2, 1.0, 'char', True]\n",
        "tfidf_vector = TfidfVectorizer(tokenizer=spacy_tokenizer, ngram_range=configtf[0], min_df=configtf[1], max_df=configtf[2], analyzer=configtf[3], sublinear_tf= configtf[4])\n",
        "\n",
        "for config in configrfc:\n",
        "\n",
        "    # Define classifier, we fix the random state for comparability\n",
        "    classifier = RandomForestClassifier(random_state = 23, n_estimators= config[0], criterion = config[1], max_depth = config[2], oob_score =config[3], max_features = config[4],  bootstrap = config[5], max_samples= config[6], class_weight= config[7])\n",
        "\n",
        "    # Create pipeline\n",
        "    pipe = Pipeline([('vectorizer', tfidf_vector),\n",
        "                 ('classifier', classifier)])\n",
        "\n",
        "    # Fit model on training set\n",
        "    pipe.fit(X_train, y_train)\n",
        "\n",
        "    # Predictions\n",
        "    y_pred = pipe.predict(X_test)\n",
        "\n",
        "    # Print accuracy on test set\n",
        "    print(\"CONFIG: \", config)\n",
        "    evaluate(y_test, y_pred)\n",
        "    print(\"-----------------------\")\n",
        "\n",
        "    # Append to result\n",
        "    resultrfc.append([config, accuracy_score(y_test, y_pred)])"
      ],
      "execution_count": null,
      "outputs": []
    },
    {
      "cell_type": "code",
      "metadata": {
        "id": "kBx-JfYiZYwO"
      },
      "source": [
        "best10  = sorted(resultrfc, key =itemgetter(1))[-10:]\n",
        "print('The 10 best configurations for the random forest classifier are:')\n",
        "for i in range(len(best10)):\n",
        "  print(str(best10[i][0]) + ' with an accuracy of ' + str(round(best10[i][1],4)) + ' on the test part of our training data.')"
      ],
      "execution_count": null,
      "outputs": []
    },
    {
      "cell_type": "code",
      "metadata": {
        "colab": {
          "base_uri": "https://localhost:8080/"
        },
        "id": "kDbvofOLuWd2",
        "outputId": "b9ab295c-57a4-4ab8-823f-b6e6c120426e"
      },
      "source": [
        "#Evaluate the best configuration\r\n",
        "# Define classifier\r\n",
        "configrfc = [100, 'gini',500, False, 'log2', False, None, None]\r\n",
        "classifier = RandomForestClassifier(random_state = 23, n_estimators= configrfc[0], criterion = configrfc[1],max_depth = configrfc[2], oob_score =configrfc[3], max_features = configrfc[4],  bootstrap = configrfc[5], max_samples= configrfc[6], class_weight= configrfc[7])\r\n",
        "\r\n",
        "#Best configuration for tf-idf\r\n",
        "configtf =  [(3, 4), 2, 1.0, 'char', True]\r\n",
        "tfidf_vector = TfidfVectorizer(tokenizer=spacy_tokenizer, ngram_range=configtf[0], min_df=configtf[1], max_df=configtf[2], analyzer=configtf[3], sublinear_tf= configtf[4])\r\n",
        "\r\n",
        "# Create pipeline\r\n",
        "piperf = Pipeline([('vectorizer', tfidf_vector),\r\n",
        "                 ('classifier', classifier)])\r\n",
        "\r\n",
        "# Generate Model on training set\r\n",
        "piperf.fit(X_train, y_train)\r\n",
        "\r\n",
        "#Evaluation\r\n",
        "y_train_pred = piperf.predict(X_train)\r\n",
        "y_test_pred = piperf.predict(X_test)\r\n",
        "print(\"Training Set: \")\r\n",
        "evaluate(y_train,y_train_pred)\r\n",
        "print(\"Validation Set: \")\r\n",
        "evaluate(y_test,y_test_pred)"
      ],
      "execution_count": null,
      "outputs": [
        {
          "output_type": "stream",
          "text": [
            "Training Set: \n",
            "CONFUSION MATRIX:\n",
            "[[2950    4]\n",
            " [   6 2216]]\n",
            "ACCURACY SCORE:\n",
            "0.9981\n",
            "CLASSIFICATION REPORT:\n",
            "\tPrecision: 0.9982\n",
            "\tRecall: 0.9973\n",
            "\tF1_Score: 0.9977\n",
            "Validation Set: \n",
            "CONFUSION MATRIX:\n",
            "[[694  53]\n",
            " [219 329]]\n",
            "ACCURACY SCORE:\n",
            "0.7900\n",
            "CLASSIFICATION REPORT:\n",
            "\tPrecision: 0.8613\n",
            "\tRecall: 0.6004\n",
            "\tF1_Score: 0.7075\n"
          ],
          "name": "stdout"
        }
      ]
    },
    {
      "cell_type": "markdown",
      "metadata": {
        "id": "rum_QzFVb4_m"
      },
      "source": [
        "The best configuration for the random forest classifier is [100, 'gini',500, False, 'log2', False, None, None], but it is always worse than logistic regression and it still looks overfitted."
      ]
    },
    {
      "cell_type": "code",
      "metadata": {
        "id": "KwpT5xuyu8u8"
      },
      "source": [
        "#Same thing using GridSearchCV\n",
        "from sklearn.model_selection import GridSearchCV\n",
        "parameters = {'n_estimators' : [10,50,100,500], 'criterion' : ['gini', 'entropy'], max_depth = [10,100,500,1000],\n",
        "              'bootstrap' : [True, False], 'max_samples' : [100,500,1000,2000], \n",
        "              'class_weight' : [None, 'balanced_subsample'], 'max_features' : ['sqrt', 'log2', None]}\n",
        "\n",
        "# Define classifier\n",
        "classifier = RandomForestClassifier(random_state = 23)\n",
        "\n",
        "#Best configuration for tf-idf\n",
        "configtf =  [(3, 4), 2, 1.0, 'char', True]\n",
        "tfidf_vector = TfidfVectorizer(tokenizer=spacy_tokenizer, ngram_range=configtf[0], min_df=configtf[1], max_df=configtf[2], analyzer=configtf[3], sublinear_tf= configtf[4])\n",
        "\n",
        "gscv = GridSearchCV(estimator = classifier, param_grid = parameters)\n",
        "\n",
        "pipegscv = Pipeline([('vectorizer', tfidf_vector),\n",
        "                 ('classifier', gscv)])\n",
        "\n",
        "pipegscv.fit(X_train, y_train)\n",
        "\n",
        "y_train_pred = pipegscv.predict(X_train)\n",
        "y_test_pred = pipegscv.predict(X_test)\n",
        "print(\"Training Set: \")\n",
        "evaluate(y_train,y_train_pred)\n",
        "print(\"Validation Set: \")\n",
        "evaluate(y_test,y_test_pred)"
      ],
      "execution_count": null,
      "outputs": []
    },
    {
      "cell_type": "markdown",
      "metadata": {
        "id": "RX-RQinH95J6"
      },
      "source": [
        "####Export"
      ]
    },
    {
      "cell_type": "code",
      "metadata": {
        "id": "MVABXxCr-B_c"
      },
      "source": [
        "X = df_new.text\n",
        "y = df_new.target\n",
        "configtf =  [(3, 4), 2, 1.0, 'char', True]\n",
        "tfidf_vector = TfidfVectorizer(tokenizer=spacy_tokenizer, ngram_range=configtf[0], min_df=configtf[1], max_df=configtf[2], analyzer=configtf[3], sublinear_tf= configtf[4])\n",
        "\n",
        "configrfc = [100, 'gini',500, False, 'log2', False, None, None]\n",
        "classifier = RandomForestClassifier(random_state = 23, n_estimators= config[0], criterion = config[1], max_depth = config[2], oob_score =config[3], max_features = config[4],  bootstrap = config[5], max_samples= config[6], class_weight= config[7])\n",
        "pipe = Pipeline([('vectorizer', tfidf),\n",
        "                 ('classifier', classifier)])\n",
        "pipe.fit(X, y)"
      ],
      "execution_count": null,
      "outputs": []
    },
    {
      "cell_type": "code",
      "metadata": {
        "id": "-Ndko3V0-B_c"
      },
      "source": [
        "from google.colab import drive\n",
        "drive.mount('/drive')"
      ],
      "execution_count": null,
      "outputs": []
    },
    {
      "cell_type": "code",
      "metadata": {
        "id": "VR0hv94C-B_c"
      },
      "source": [
        "rfsubmission = pd.Series(pipe.predict(test_df.text))\n",
        "rfsubmission.rename('target').to_csv('/drive/My Drive/Colab Notebooks/rfbettersubmission.csv', index = False)"
      ],
      "execution_count": null,
      "outputs": []
    },
    {
      "cell_type": "markdown",
      "metadata": {
        "id": "VRfclSdSLl9e"
      },
      "source": [
        "##5. Third classifier: K-Nearest Neighbors"
      ]
    },
    {
      "cell_type": "markdown",
      "metadata": {
        "id": "fs2LiDh-xxvr"
      },
      "source": [
        "We do the same work as before: looking at the basic classifier, then optimizing."
      ]
    },
    {
      "cell_type": "markdown",
      "metadata": {
        "id": "1jWZJ8py_k92"
      },
      "source": [
        "###Basic K-Nearest Neigbors"
      ]
    },
    {
      "cell_type": "code",
      "metadata": {
        "id": "Cz83JTmHLp48"
      },
      "source": [
        "from sklearn.neighbors import KNeighborsClassifier"
      ],
      "execution_count": null,
      "outputs": []
    },
    {
      "cell_type": "code",
      "metadata": {
        "id": "HPVWUxtxR_KS"
      },
      "source": [
        "#Select Features and split\n",
        "X = df.text\n",
        "y = df.target\n",
        "X_train, X_test, y_train, y_test = train_test_split(X, y, test_size=0.2, random_state = 23)"
      ],
      "execution_count": null,
      "outputs": []
    },
    {
      "cell_type": "code",
      "metadata": {
        "id": "sEG6uKf2R_KS",
        "colab": {
          "base_uri": "https://localhost:8080/"
        },
        "outputId": "bdc6103b-57d7-4ef7-bd1c-8a4948399b5c"
      },
      "source": [
        "# Define classifier\n",
        "classifier = KNeighborsClassifier(n_neighbors=5)\n",
        "#Best configuration for tf-idf\n",
        "configtf =  [(3, 4), 2, 1.0, 'char', True]\n",
        "tfidf_vector = TfidfVectorizer(tokenizer=spacy_tokenizer, ngram_range=configtf[0], min_df=configtf[1], max_df=configtf[2], analyzer=configtf[3], sublinear_tf= configtf[4])\n",
        "\n",
        "# Create pipeline\n",
        "pipeknn = Pipeline([('vectorizer', tfidf_vector),\n",
        "                 ('classifier', classifier)])\n",
        "\n",
        "# Generate Model on training set\n",
        "pipeknn.fit(X_train, y_train)\n",
        "\n",
        "# Predictions\n",
        "y_pred = pipeknn.predict(X_test)\n",
        "\n",
        "#Evaluation\n",
        "y_train_pred = pipeknn.predict(X_train)\n",
        "y_test_pred = pipeknn.predict(X_test)\n",
        "print(\"Training Set: \")\n",
        "evaluate(y_train,y_train_pred)\n",
        "print(\"Validation Set: \")\n",
        "evaluate(y_test,y_test_pred)"
      ],
      "execution_count": null,
      "outputs": [
        {
          "output_type": "stream",
          "text": [
            "Training Set: \n",
            "CONFUSION MATRIX:\n",
            "[[2644  310]\n",
            " [ 510 1712]]\n",
            "ACCURACY SCORE:\n",
            "0.8416\n",
            "CLASSIFICATION REPORT:\n",
            "\tPrecision: 0.8467\n",
            "\tRecall: 0.7705\n",
            "\tF1_Score: 0.8068\n",
            "Validation Set: \n",
            "CONFUSION MATRIX:\n",
            "[[607 140]\n",
            " [147 401]]\n",
            "ACCURACY SCORE:\n",
            "0.7784\n",
            "CLASSIFICATION REPORT:\n",
            "\tPrecision: 0.7412\n",
            "\tRecall: 0.7318\n",
            "\tF1_Score: 0.7365\n"
          ],
          "name": "stdout"
        }
      ]
    },
    {
      "cell_type": "code",
      "metadata": {
        "id": "jOOu0uPvAIjK"
      },
      "source": [
        "classifier = KNeighborsClassifier(n_estimators=50)\n",
        "\n",
        "# Create pipeline\n",
        "pipe = Pipeline([('vectorizer', tfidf_vector),\n",
        "                 ('classifier', classifier)])\n",
        "\n",
        "# Generate Model on training set\n",
        "pipe.fit(X, y)\n",
        "\n",
        "knnsubmission = pd.Series(pipe.predict(test_df.text))\n",
        "knnsubmission.rename('target').to_csv('/drive/My Drive/Colab Notebooks/knnsubmission.csv', index = False)"
      ],
      "execution_count": null,
      "outputs": []
    },
    {
      "cell_type": "markdown",
      "metadata": {
        "id": "rpnQS9ra_pwA"
      },
      "source": [
        "###Improving accuracy"
      ]
    },
    {
      "cell_type": "code",
      "metadata": {
        "id": "yBvPWClux_kq",
        "colab": {
          "base_uri": "https://localhost:8080/"
        },
        "outputId": "fc4a35d8-b7f1-4653-9090-a55752192ef1"
      },
      "source": [
        "# Create list of configs\n",
        "configknn = []\n",
        "# Define config lists\n",
        "n_neighbors = [1,2,3,4,5]\n",
        "weights = ['uniform', 'distance']\n",
        "\n",
        "# Create config instances\n",
        "for n in n_neighbors:\n",
        "  for w in weights:\n",
        "    configknn.append([n,w])\n",
        "\n",
        "configknn[:10]"
      ],
      "execution_count": null,
      "outputs": [
        {
          "output_type": "execute_result",
          "data": {
            "text/plain": [
              "[[1, 'uniform'],\n",
              " [1, 'distance'],\n",
              " [2, 'uniform'],\n",
              " [2, 'distance'],\n",
              " [3, 'uniform'],\n",
              " [3, 'distance'],\n",
              " [4, 'uniform'],\n",
              " [4, 'distance'],\n",
              " [5, 'uniform'],\n",
              " [5, 'distance']]"
            ]
          },
          "metadata": {
            "tags": []
          },
          "execution_count": 74
        }
      ]
    },
    {
      "cell_type": "code",
      "metadata": {
        "id": "nghP3A2dyF6i"
      },
      "source": [
        "# Define list for result\n",
        "resultknn = []\n",
        "#Best configuration for tf-idf\n",
        "configtf =  [(3, 4), 2, 1.0, 'char', True]\n",
        "tfidf_vector = TfidfVectorizer(tokenizer=spacy_tokenizer, ngram_range=configtf[0], min_df=configtf[1], max_df=configtf[2], analyzer=configtf[3], sublinear_tf= configtf[4])\n",
        "\n",
        "for config in configknn:\n",
        "\n",
        "    # Define classifier, we fix the random state for comparability\n",
        "    classifier = KNeighborsClassifier(n_neighbors= config[0], weights = config[1])\n",
        "\n",
        "    # Create pipeline\n",
        "    pipe = Pipeline([('vectorizer', tfidf_vector),\n",
        "                 ('classifier', classifier)])\n",
        "\n",
        "    # Fit model on training set\n",
        "    pipe.fit(X_train, y_train)\n",
        "\n",
        "    # Predictions\n",
        "    y_pred = pipe.predict(X_test)\n",
        "\n",
        "    # Print accuracy on test set\n",
        "    print(\"CONFIG: \", config)\n",
        "    evaluate(y_test, y_pred)\n",
        "    print(\"-----------------------\")\n",
        "\n",
        "    # Append to result\n",
        "    resultknn.append([config, accuracy_score(y_test, y_pred)])"
      ],
      "execution_count": null,
      "outputs": []
    },
    {
      "cell_type": "code",
      "metadata": {
        "id": "aClg8V5rAf5Z"
      },
      "source": [
        "from operator import itemgetter \n",
        "best5  = sorted(resultknn, key =itemgetter(1))[-5:]\n",
        "print('The 5 best configurations for the K-nearest neighbors are:')\n",
        "for i in range(len(best5)):\n",
        "  print(str(best5[i][0]) + ' with an accuracy of ' + str(round(best5[i][1],4)) + ' on the test part of our training data.')"
      ],
      "execution_count": null,
      "outputs": []
    },
    {
      "cell_type": "code",
      "metadata": {
        "id": "_VH_JueJOBNn"
      },
      "source": [
        "#Same thing with GridSearchCV\n",
        "from sklearn.model_selection import GridSearchCV\n",
        "parameters = {'n_neighbors' : [1,2,3,4,5], 'weights': ['uniform', 'distance']}\n",
        "\n",
        "# Define classifier\n",
        "classifier = KNeighborsClassifier()\n",
        "\n",
        "#Best configuration for tf-idf\n",
        "configtf =  [(3, 4), 2, 1.0, 'char', True]\n",
        "tfidf_vector = TfidfVectorizer(tokenizer=spacy_tokenizer, ngram_range=configtf[0], min_df=configtf[1], max_df=configtf[2], analyzer=configtf[3], sublinear_tf= configtf[4])\n",
        "\n",
        "gscv = GridSearchCV(estimator = classifier, param_grid = parameters)\n",
        "\n",
        "pipegscv = Pipeline([('vectorizer', tfidf_vector),\n",
        "                 ('classifier', gscv)])\n",
        "\n",
        "pipegscv.fit(X_train, y_train)\n",
        "\n",
        "y_train_pred = pipegscv.predict(X_train)\n",
        "y_test_pred = pipegscv.predict(X_test)\n",
        "print(\"Training Set: \")\n",
        "evaluate(y_train,y_train_pred)\n",
        "print(\"Validation Set: \")\n",
        "evaluate(y_test,y_test_pred)"
      ],
      "execution_count": null,
      "outputs": []
    },
    {
      "cell_type": "code",
      "metadata": {
        "id": "EnCBL-y08NNP"
      },
      "source": [
        "print(\"The best parameters are: \", gscv.best_params_)"
      ],
      "execution_count": null,
      "outputs": []
    },
    {
      "cell_type": "markdown",
      "metadata": {
        "id": "qTijX_f7_u52"
      },
      "source": [
        "####Export"
      ]
    },
    {
      "cell_type": "code",
      "metadata": {
        "id": "mrTaJ0XX_1Q7"
      },
      "source": [
        "X = df.text\n",
        "y = df.target\n",
        "configtf =  [(3, 4), 2, 1.0, 'char', True]\n",
        "tfidf_vector = TfidfVectorizer(tokenizer=spacy_tokenizer, ngram_range=configtf[0], min_df=configtf[1], max_df=configtf[2], analyzer=configtf[3], sublinear_tf= configtf[4])\n",
        "\n",
        "configknn = [4, 'uniform']\n",
        "classifier = KNeighborsClassifier(n_neighbors= config[0], weights = config[1])\n",
        "pipe = Pipeline([('vectorizer', tfidf_vector),\n",
        "                 ('classifier', classifier)])\n",
        "pipe.fit(X, y)"
      ],
      "execution_count": null,
      "outputs": []
    },
    {
      "cell_type": "code",
      "metadata": {
        "id": "S1Jtg6rJ_1Q8"
      },
      "source": [
        "from google.colab import drive\n",
        "drive.mount('/drive')"
      ],
      "execution_count": null,
      "outputs": []
    },
    {
      "cell_type": "code",
      "metadata": {
        "id": "Mv711sNy_1Q8"
      },
      "source": [
        "knnsubmission = pd.Series(pipe.predict(test_df.text))\n",
        "knnsubmission.rename('target').to_csv('/drive/My Drive/Colab Notebooks/knnbettersubmission.csv', index = False)"
      ],
      "execution_count": null,
      "outputs": []
    },
    {
      "cell_type": "markdown",
      "metadata": {
        "id": "UbgXBcSFCHXZ"
      },
      "source": [
        "The best model is still logistic regression: we will then try dimension reduction and some improvements on the tokenizer."
      ]
    },
    {
      "cell_type": "markdown",
      "metadata": {
        "id": "YpBwHwPbCTjR"
      },
      "source": [
        "##6. Dimension Reduction and Feature engineering"
      ]
    },
    {
      "cell_type": "markdown",
      "metadata": {
        "id": "jBIct6CHdVCX"
      },
      "source": [
        "###Dimension Reduction"
      ]
    },
    {
      "cell_type": "markdown",
      "metadata": {
        "id": "9C7rcmrSytVe"
      },
      "source": [
        "The TF-IDF vector is a large dataframe with a lot of features. Some of them may be correlated, therefore we can reduce the dimensionnality to improve the running time of our models and maybe improve the accuracy."
      ]
    },
    {
      "cell_type": "code",
      "metadata": {
        "id": "GH4hiJATCXNm"
      },
      "source": [
        "from sklearn.decomposition import PCA"
      ],
      "execution_count": null,
      "outputs": []
    },
    {
      "cell_type": "code",
      "metadata": {
        "id": "hOOL0UHMws1B"
      },
      "source": [
        "#Feature selection and data splitting\n",
        "X = df.text\n",
        "y = df.target\n",
        "X_train, X_test, y_train, y_test = train_test_split(X, y, test_size=0.2, random_state = 23)"
      ],
      "execution_count": null,
      "outputs": []
    },
    {
      "cell_type": "code",
      "metadata": {
        "id": "EQ8VhIVowFDq",
        "colab": {
          "base_uri": "https://localhost:8080/"
        },
        "outputId": "d686605b-fc76-46bb-d5e8-53a6cfc6d0d6"
      },
      "source": [
        "# Define vectorizer\n",
        "configtf =  [(3, 4), 2, 1.0, 'char', True]\n",
        "tfidf_vector = TfidfVectorizer(tokenizer=spacy_tokenizer, ngram_range=configtf[0], min_df=configtf[1], max_df=configtf[2], analyzer=configtf[3], sublinear_tf= configtf[4])\n",
        "\n",
        "# Fit and transform X_train and X_test \n",
        "X_train_vec = tfidf_vector.fit_transform(X_train).toarray()\n",
        "X_test_vec = tfidf_vector.transform(X_test).toarray()\n",
        "print(X_train_vec.shape)\n",
        "X_train_vec"
      ],
      "execution_count": null,
      "outputs": [
        {
          "output_type": "stream",
          "text": [
            "(5176, 45927)\n"
          ],
          "name": "stdout"
        },
        {
          "output_type": "execute_result",
          "data": {
            "text/plain": [
              "array([[0., 0., 0., ..., 0., 0., 0.],\n",
              "       [0., 0., 0., ..., 0., 0., 0.],\n",
              "       [0., 0., 0., ..., 0., 0., 0.],\n",
              "       ...,\n",
              "       [0., 0., 0., ..., 0., 0., 0.],\n",
              "       [0., 0., 0., ..., 0., 0., 0.],\n",
              "       [0., 0., 0., ..., 0., 0., 0.]])"
            ]
          },
          "metadata": {
            "tags": []
          },
          "execution_count": 121
        }
      ]
    },
    {
      "cell_type": "markdown",
      "metadata": {
        "id": "6PrOw0XpwN5W"
      },
      "source": [
        "The TF-IDF vector has a dimensionnality of 5176. We can try to reduce this to 1000 or less with PCA:"
      ]
    },
    {
      "cell_type": "code",
      "metadata": {
        "id": "3uyd7-rPwAT2",
        "colab": {
          "base_uri": "https://localhost:8080/"
        },
        "outputId": "e710b397-c1f6-408f-fa58-8b355618233e"
      },
      "source": [
        "pca = PCA(n_components=1000)\n",
        "classifier = LogisticRegressionCV(solver='lbfgs', cv=9, max_iter=20000)\n",
        "\n",
        "pipedim = Pipeline([('pca', pca),\n",
        "                 ('logistic regression', classifier)])\n",
        "pipedim.fit(X_train_vec, y_train)\n",
        "\n",
        "#Evaluation\n",
        "y_traintest = pipedim.predict(X_train_vec)\n",
        "y_validation = pipedim.predict(X_test_vec)\n",
        "print('Training set:')\n",
        "evaluate(y_train, y_traintest)\n",
        "print('Validation set:')\n",
        "evaluate(y_test, y_validation)"
      ],
      "execution_count": null,
      "outputs": [
        {
          "output_type": "stream",
          "text": [
            "Training set:\n",
            "CONFUSION MATRIX:\n",
            "[[2729  225]\n",
            " [ 536 1686]]\n",
            "ACCURACY SCORE:\n",
            "0.8530\n",
            "CLASSIFICATION REPORT:\n",
            "\tPrecision: 0.8823\n",
            "\tRecall: 0.7588\n",
            "\tF1_Score: 0.8159\n",
            "Validation set:\n",
            "CONFUSION MATRIX:\n",
            "[[650  97]\n",
            " [161 387]]\n",
            "ACCURACY SCORE:\n",
            "0.8008\n",
            "CLASSIFICATION REPORT:\n",
            "\tPrecision: 0.7996\n",
            "\tRecall: 0.7062\n",
            "\tF1_Score: 0.7500\n"
          ],
          "name": "stdout"
        }
      ]
    },
    {
      "cell_type": "markdown",
      "metadata": {
        "id": "Tj_G45Eq0oAw"
      },
      "source": [
        "As usual, loosing information implies a lower accuracy."
      ]
    },
    {
      "cell_type": "markdown",
      "metadata": {
        "id": "8nJhgPOzdY6A"
      },
      "source": [
        "###Feature Engineering"
      ]
    },
    {
      "cell_type": "markdown",
      "metadata": {
        "id": "jTVUTljvdf7P"
      },
      "source": [
        "We can use the keywords to better predict the veracity of tweets, as we saw in the EDA that they were not equally distributed among fake and true tweets."
      ]
    },
    {
      "cell_type": "code",
      "metadata": {
        "id": "ngJRKU1O13tc",
        "colab": {
          "base_uri": "https://localhost:8080/",
          "height": 223
        },
        "outputId": "0307307d-eccd-4737-adbb-a69f018cb628"
      },
      "source": [
        "#Feature engineering\r\n",
        "df.keyword = df.keyword.str.lower().str.replace('%20', ' ') # this is to clean numbers from the key word\r\n",
        "\r\n",
        "df.keyword = df.keyword.fillna('') # to remove NAs\r\n",
        "\r\n",
        "# Feature engineering: adding keyword to text (create new series \"new\")\r\n",
        "df = df.assign(new=pd.Series(df.text+' '+ df.keyword).values)\r\n",
        "\r\n",
        "print(df.text[1])\r\n",
        "print(df.new[1])\r\n",
        "\r\n",
        "df.head()"
      ],
      "execution_count": null,
      "outputs": [
        {
          "output_type": "stream",
          "text": [
            "#world FedEx no longer to transport bioterror germs in wake of anthrax lab mishaps  http://t.co/5zDbTktwW7\n",
            "#world FedEx no longer to transport bioterror germs in wake of anthrax lab mishaps  http://t.co/5zDbTktwW7 bioterror\n"
          ],
          "name": "stdout"
        },
        {
          "output_type": "execute_result",
          "data": {
            "text/html": [
              "<div>\n",
              "<style scoped>\n",
              "    .dataframe tbody tr th:only-of-type {\n",
              "        vertical-align: middle;\n",
              "    }\n",
              "\n",
              "    .dataframe tbody tr th {\n",
              "        vertical-align: top;\n",
              "    }\n",
              "\n",
              "    .dataframe thead th {\n",
              "        text-align: right;\n",
              "    }\n",
              "</style>\n",
              "<table border=\"1\" class=\"dataframe\">\n",
              "  <thead>\n",
              "    <tr style=\"text-align: right;\">\n",
              "      <th></th>\n",
              "      <th>id</th>\n",
              "      <th>keyword</th>\n",
              "      <th>location</th>\n",
              "      <th>text</th>\n",
              "      <th>target</th>\n",
              "      <th>new</th>\n",
              "    </tr>\n",
              "  </thead>\n",
              "  <tbody>\n",
              "    <tr>\n",
              "      <th>0</th>\n",
              "      <td>3738</td>\n",
              "      <td>destroyed</td>\n",
              "      <td>USA</td>\n",
              "      <td>Black Eye 9: A space battle occurred at Star O...</td>\n",
              "      <td>0</td>\n",
              "      <td>Black Eye 9: A space battle occurred at Star O...</td>\n",
              "    </tr>\n",
              "    <tr>\n",
              "      <th>1</th>\n",
              "      <td>853</td>\n",
              "      <td>bioterror</td>\n",
              "      <td>NaN</td>\n",
              "      <td>#world FedEx no longer to transport bioterror ...</td>\n",
              "      <td>0</td>\n",
              "      <td>#world FedEx no longer to transport bioterror ...</td>\n",
              "    </tr>\n",
              "    <tr>\n",
              "      <th>2</th>\n",
              "      <td>10540</td>\n",
              "      <td>windstorm</td>\n",
              "      <td>Palm Beach County, FL</td>\n",
              "      <td>Reality Training: Train falls off elevated tra...</td>\n",
              "      <td>1</td>\n",
              "      <td>Reality Training: Train falls off elevated tra...</td>\n",
              "    </tr>\n",
              "    <tr>\n",
              "      <th>3</th>\n",
              "      <td>5988</td>\n",
              "      <td>hazardous</td>\n",
              "      <td>USA</td>\n",
              "      <td>#Taiwan Grace: expect that large rocks trees m...</td>\n",
              "      <td>1</td>\n",
              "      <td>#Taiwan Grace: expect that large rocks trees m...</td>\n",
              "    </tr>\n",
              "    <tr>\n",
              "      <th>4</th>\n",
              "      <td>6328</td>\n",
              "      <td>hostage</td>\n",
              "      <td>Australia</td>\n",
              "      <td>New ISIS Video: ISIS Threatens to Behead Croat...</td>\n",
              "      <td>1</td>\n",
              "      <td>New ISIS Video: ISIS Threatens to Behead Croat...</td>\n",
              "    </tr>\n",
              "  </tbody>\n",
              "</table>\n",
              "</div>"
            ],
            "text/plain": [
              "      id    keyword  ... target                                                new\n",
              "0   3738  destroyed  ...      0  Black Eye 9: A space battle occurred at Star O...\n",
              "1    853  bioterror  ...      0  #world FedEx no longer to transport bioterror ...\n",
              "2  10540  windstorm  ...      1  Reality Training: Train falls off elevated tra...\n",
              "3   5988  hazardous  ...      1  #Taiwan Grace: expect that large rocks trees m...\n",
              "4   6328    hostage  ...      1  New ISIS Video: ISIS Threatens to Behead Croat...\n",
              "\n",
              "[5 rows x 6 columns]"
            ]
          },
          "metadata": {
            "tags": []
          },
          "execution_count": 130
        }
      ]
    },
    {
      "cell_type": "code",
      "metadata": {
        "colab": {
          "base_uri": "https://localhost:8080/"
        },
        "id": "7Jy4R9DH1W46",
        "outputId": "4736e942-24b0-46a3-c89c-f93b21dcff5c"
      },
      "source": [
        "#Feature selection and data splitting\r\n",
        "X = df.new\r\n",
        "y = df.target\r\n",
        "X_train, X_test, y_train, y_test = train_test_split(X, y, test_size=0.2, random_state = 23)\r\n",
        "\r\n",
        "# Define vectorizer\r\n",
        "configtf =  [(3, 4), 2, 1.0, 'char', True]\r\n",
        "tfidf_vector = TfidfVectorizer(tokenizer=spacy_tokenizer, ngram_range=configtf[0], min_df=configtf[1], max_df=configtf[2], analyzer=configtf[3], sublinear_tf= configtf[4])\r\n",
        "\r\n",
        "classifier = LogisticRegressionCV(solver='lbfgs', cv=9, max_iter=20000)\r\n",
        "\r\n",
        "pipefe = Pipeline([('TFIDF', tfidf_vector),\r\n",
        "                 ('logistic regression', classifier)])\r\n",
        "pipefe.fit(X_train, y_train)\r\n",
        "\r\n",
        "#Evaluation\r\n",
        "y_traintest = pipefe.predict(X_train)\r\n",
        "y_validation = pipefe.predict(X_test)\r\n",
        "print('Training set:')\r\n",
        "evaluate(y_train, y_traintest)\r\n",
        "print('Validation set:')\r\n",
        "evaluate(y_test, y_validation)"
      ],
      "execution_count": null,
      "outputs": [
        {
          "output_type": "stream",
          "text": [
            "Training set:\n",
            "CONFUSION MATRIX:\n",
            "[[2884   70]\n",
            " [ 288 1934]]\n",
            "ACCURACY SCORE:\n",
            "0.9308\n",
            "CLASSIFICATION REPORT:\n",
            "\tPrecision: 0.9651\n",
            "\tRecall: 0.8704\n",
            "\tF1_Score: 0.9153\n",
            "Validation set:\n",
            "CONFUSION MATRIX:\n",
            "[[645 102]\n",
            " [140 408]]\n",
            "ACCURACY SCORE:\n",
            "0.8131\n",
            "CLASSIFICATION REPORT:\n",
            "\tPrecision: 0.8000\n",
            "\tRecall: 0.7445\n",
            "\tF1_Score: 0.7713\n"
          ],
          "name": "stdout"
        }
      ]
    },
    {
      "cell_type": "markdown",
      "metadata": {
        "id": "PdGvW0L1OHkX"
      },
      "source": [
        "##7. Further improvements"
      ]
    },
    {
      "cell_type": "markdown",
      "metadata": {
        "id": "ZdO1PqT52KfV"
      },
      "source": [
        "We will try to use other stopwords, tokenizer and vectorizer."
      ]
    },
    {
      "cell_type": "markdown",
      "metadata": {
        "id": "yPhJFibkczS9"
      },
      "source": [
        "###Using other stopwords"
      ]
    },
    {
      "cell_type": "markdown",
      "metadata": {
        "id": "5Qf4XOMy-67N"
      },
      "source": [
        "We have some sets of stopwords (you can see them in https://github.com/GeorgesBongibault/Project-Orange/tree/main/Documents/stopwords), which are supposed to be adapted for tweets analysis, let's see if it is better than the basic spacy stopwords."
      ]
    },
    {
      "cell_type": "code",
      "metadata": {
        "id": "Y8QDi9AQOL2u"
      },
      "source": [
        "#Stopwords\n",
        "common_english_adjectives = pd.read_csv(\"https://raw.githubusercontent.com/GeorgesBongibault/Project-Orange/main/Documents/stopwords/common-english-adjectives.txt\", sep=',', header = None).T[:-1]\n",
        "common_english_adverbs = pd.read_csv(\"https://raw.githubusercontent.com/GeorgesBongibault/Project-Orange/main/Documents/stopwords/common-english-adverbs.txt\", sep=',', header = None).T[:-1]\n",
        "common_english_prep_conj = pd.read_csv(\"https://raw.githubusercontent.com/GeorgesBongibault/Project-Orange/main/Documents/stopwords/common-english-prep-conj.txt\", sep=',', header = None).T[:-1]\n",
        "common_english_verbs = pd.read_csv(\"https://raw.githubusercontent.com/GeorgesBongibault/Project-Orange/main/Documents/stopwords/common-english-verbs.txt\", sep=',', header = None).T[:-1]\n",
        "common_english_words = pd.read_csv(\"https://raw.githubusercontent.com/GeorgesBongibault/Project-Orange/main/Documents/stopwords/common-english-words.txt\", sep=',', header = None).T\n",
        "morestopwords = pd.read_csv(\"https://raw.githubusercontent.com/GeorgesBongibault/Project-Orange/main/Documents/stopwords/morestopwords.txt\", sep='\\t', header = None)\n",
        "mysql_stopwords = pd.read_csv(\"https://raw.githubusercontent.com/GeorgesBongibault/Project-Orange/main/Documents/stopwords/mysql-stopwords.txt\", sep=',', header = None).T\n",
        "non_english_words = pd.read_csv(\"https://raw.githubusercontent.com/GeorgesBongibault/Project-Orange/main/Documents/stopwords/non-english-words.txt\", sep=',', header = None).T[:-1]\n",
        "smart_common_words = pd.read_csv(\"https://raw.githubusercontent.com/GeorgesBongibault/Project-Orange/main/Documents/stopwords/smart-common-words.txt\", sep=',', header = None).T\n",
        "stopWords = pd.read_csv(\"https://raw.githubusercontent.com/GeorgesBongibault/Project-Orange/main/Documents/stopwords/stopWords.txt\", sep='\\t', header = None)\n",
        "twitter_stopwords_TA_Less = pd.read_csv(\"https://raw.githubusercontent.com/GeorgesBongibault/Project-Orange/main/Documents/stopwords/twitter-stopwords%20-%20TA%20-%20Less.txt\", sep=',', header = None).T\n",
        "twitter_stopwords_TA = pd.read_csv(\"https://raw.githubusercontent.com/GeorgesBongibault/Project-Orange/main/Documents/stopwords/twitter-stopwords%20-%20TA.txt\", sep=',', header = None).T\n",
        "twitter_stopwords = pd.read_csv(\"https://raw.githubusercontent.com/GeorgesBongibault/Project-Orange/main/Documents/stopwords/twitter-stopwords.txt\", sep=',', header = None).T[:-1]\n",
        "punctuations = string.punctuation\n",
        "numbers = \"0123456789\"\n",
        "\n",
        "stops = [common_english_adjectives,common_english_adverbs,common_english_prep_conj,common_english_verbs,common_english_words,morestopwords,mysql_stopwords,non_english_words,\n",
        "        smart_common_words,stopWords,twitter_stopwords_TA_Less,twitter_stopwords_TA,twitter_stopwords,punctuations,numbers]"
      ],
      "execution_count": null,
      "outputs": []
    },
    {
      "cell_type": "code",
      "metadata": {
        "id": "tqri1WAYdqM7"
      },
      "source": [
        "def new_tokenizer(text):\n",
        "    # Create spacy object\n",
        "    mytokens = sp(text)\n",
        "\n",
        "    # Lemmatize each token and convert each token into lowercase\n",
        "    mytokens = [ word.lemma_.lower().strip() if word.lemma_ != \"-PRON-\" else word.lower_ for word in mytokens ]\n",
        "\n",
        "    # Remove stop words, numbers and punctuation\n",
        "    for stop in stops:\n",
        "      mytokens = [word for word in mytokens if word not in stop]\n",
        "\n",
        "    # Remove usernames and hashtags\n",
        "    mytokens_2 = []\n",
        "    for word in mytokens:\n",
        "      i = False\n",
        "      for letter in word :\n",
        "        if letter == '@' or letter == '#':\n",
        "            i = True\n",
        "      if not(i) :\n",
        "        mytokens_2.append(word)\n",
        "\n",
        "    # Return preprocessed list of tokens\n",
        "    return mytokens_2\n",
        "    #return mytokens"
      ],
      "execution_count": null,
      "outputs": []
    },
    {
      "cell_type": "code",
      "metadata": {
        "id": "DB59_UtdsXFG"
      },
      "source": [
        "#Select Features and split data\n",
        "X = df.text\n",
        "y = df.target\n",
        "X_train, X_test, y_train, y_test = train_test_split(X, y, test_size=0.2, random_state = 23)"
      ],
      "execution_count": null,
      "outputs": []
    },
    {
      "cell_type": "code",
      "metadata": {
        "id": "gDj1gMfWsmsI",
        "colab": {
          "base_uri": "https://localhost:8080/"
        },
        "outputId": "b5b1fb68-dd46-4013-de38-8876a64dd3ec"
      },
      "source": [
        "# Define vectorizer with best configuration\n",
        "configtf =  [(3, 4), 2, 1.0, 'char', True]\n",
        "tfidf_vector = TfidfVectorizer(tokenizer=new_tokenizer, ngram_range=configtf[0], min_df=configtf[1], max_df=configtf[2], analyzer=configtf[3], sublinear_tf= configtf[4])\n",
        "\n",
        "# Define classifier with best configuration\n",
        "classifier = LogisticRegressionCV(solver='lbfgs', cv=9, max_iter=20000)\n",
        "\n",
        "# Create pipeline\n",
        "pipetoken = Pipeline([('vectorizer', tfidf_vector),\n",
        "                 ('classifier', classifier)])\n",
        "# Fit model on training set\n",
        "pipetoken.fit(X_train, y_train)\n",
        "\n",
        "#Evaluate\n",
        "y_train_pred = pipetoken.predict(X_train)\n",
        "y_test_pred = pipetoken.predict(X_test)\n",
        "print(\"Training Set: \")\n",
        "evaluate(y_train,y_train_pred)\n",
        "print(\"Validation Set: \")\n",
        "evaluate(y_test,y_test_pred)"
      ],
      "execution_count": null,
      "outputs": [
        {
          "output_type": "stream",
          "text": [
            "Training Set: \n",
            "CONFUSION MATRIX:\n",
            "[[2904   50]\n",
            " [ 271 1951]]\n",
            "ACCURACY SCORE:\n",
            "0.9380\n",
            "CLASSIFICATION REPORT:\n",
            "\tPrecision: 0.9750\n",
            "\tRecall: 0.8780\n",
            "\tF1_Score: 0.9240\n",
            "Validation Set: \n",
            "CONFUSION MATRIX:\n",
            "[[657  90]\n",
            " [146 402]]\n",
            "ACCURACY SCORE:\n",
            "0.8178\n",
            "CLASSIFICATION REPORT:\n",
            "\tPrecision: 0.8171\n",
            "\tRecall: 0.7336\n",
            "\tF1_Score: 0.7731\n"
          ],
          "name": "stdout"
        }
      ]
    },
    {
      "cell_type": "markdown",
      "metadata": {
        "id": "s458je-J23jU"
      },
      "source": [
        "This doesn't seem to give any improvements. Maybe the stopwords from spacy were close to the ones we used here."
      ]
    },
    {
      "cell_type": "markdown",
      "metadata": {
        "id": "TiETw-DlgMxK"
      },
      "source": [
        "### Using another tokenizer with NLTK"
      ]
    },
    {
      "cell_type": "code",
      "metadata": {
        "colab": {
          "base_uri": "https://localhost:8080/"
        },
        "id": "9bZ-_Z2xfV7s",
        "outputId": "30d2626e-a1af-48d4-c774-bfffd481bd49"
      },
      "source": [
        "# Import nltk for lemmatizing and tokenizing\r\n",
        "import nltk\r\n",
        "from nltk.stem import PorterStemmer\r\n",
        "from nltk.tokenize import word_tokenize\r\n",
        "nltk.download('stopwords')\r\n",
        "from nltk.corpus import stopwords\r\n",
        "stop_words = stopwords.words('english')\r\n",
        "nltk.download('punkt')\r\n",
        "nltk.download('wordnet')\r\n",
        "nltk.download('words')\r\n",
        "words = set(nltk.corpus.words.words())\r\n",
        "import re\r\n",
        "\r\n",
        "# Create NLTK tokenizer and cleaning function with lemmatization\r\n",
        "from nltk.stem import WordNetLemmatizer\r\n",
        "from nltk.corpus import wordnet\r\n",
        "nltk.download('punkt')\r\n",
        "nltk.download('wordnet')"
      ],
      "execution_count": null,
      "outputs": [
        {
          "output_type": "stream",
          "text": [
            "[nltk_data] Downloading package stopwords to /root/nltk_data...\n",
            "[nltk_data]   Unzipping corpora/stopwords.zip.\n",
            "[nltk_data] Downloading package punkt to /root/nltk_data...\n",
            "[nltk_data]   Unzipping tokenizers/punkt.zip.\n",
            "[nltk_data] Downloading package wordnet to /root/nltk_data...\n",
            "[nltk_data]   Unzipping corpora/wordnet.zip.\n",
            "[nltk_data] Downloading package words to /root/nltk_data...\n",
            "[nltk_data]   Unzipping corpora/words.zip.\n",
            "[nltk_data] Downloading package punkt to /root/nltk_data...\n",
            "[nltk_data]   Package punkt is already up-to-date!\n",
            "[nltk_data] Downloading package wordnet to /root/nltk_data...\n",
            "[nltk_data]   Package wordnet is already up-to-date!\n"
          ],
          "name": "stdout"
        },
        {
          "output_type": "execute_result",
          "data": {
            "text/plain": [
              "True"
            ]
          },
          "metadata": {
            "tags": []
          },
          "execution_count": 84
        }
      ]
    },
    {
      "cell_type": "code",
      "metadata": {
        "id": "_LDlVTQrgL-f"
      },
      "source": [
        "def tokenizer_lem(text):\r\n",
        "    #remove digits\r\n",
        "    text = re.sub(r'\\d+', '', text)\r\n",
        "\r\n",
        "    # make lowercase\r\n",
        "    text = text.lower()\r\n",
        "\r\n",
        "    #remove punctuation\r\n",
        "    text = re.sub(r'[^\\w\\s\\d]', '', text)\r\n",
        "\r\n",
        "    # remove stopwords\r\n",
        "    text = text.split()\r\n",
        "    text = \" \".join([word for word in text if not word in stop_words])\r\n",
        "\r\n",
        "    #tokenize\r\n",
        "    text = word_tokenize(text)\r\n",
        "\r\n",
        "    #Lemmatization\r\n",
        "    lem = WordNetLemmatizer()\r\n",
        "    text = [lem.lemmatize(word) for word in text]\r\n",
        "\r\n",
        "    # Return preprocessed list of tokens\r\n",
        "    return text"
      ],
      "execution_count": null,
      "outputs": []
    },
    {
      "cell_type": "code",
      "metadata": {
        "id": "RGeH7bengo9k",
        "colab": {
          "base_uri": "https://localhost:8080/"
        },
        "outputId": "85b72c7f-1e9e-42b2-9259-c754c8e756d1"
      },
      "source": [
        "X_train.apply(tokenizer_lem) # apply the other tokenizer"
      ],
      "execution_count": null,
      "outputs": [
        {
          "output_type": "execute_result",
          "data": {
            "text/plain": [
              "2856    [silverhusky, shtap, town, obliterated, earth,...\n",
              "1632    [want, work, swedish, health, service, hiring,...\n",
              "6061             [gon, na, drown, mustard, lemon, pepper]\n",
              "4658    [cant, listen, darude, sandstorm, without, exp...\n",
              "130      [past, week, absolute, whirlwind, athens, bound]\n",
              "                              ...                        \n",
              "2998    [stacdemon, five, burning, question, chris, mu...\n",
              "1993    [west, burned, thousand, wildfire, ablaze, cal...\n",
              "1064    [trollkrattos, juan, carlos, salvador, secret,...\n",
              "4838    [la, startup, hot, flower, come, straight, vol...\n",
              "595     [news, bin, laden, family, plane, crashed, avo...\n",
              "Name: text, Length: 5176, dtype: object"
            ]
          },
          "metadata": {
            "tags": []
          },
          "execution_count": 86
        }
      ]
    },
    {
      "cell_type": "markdown",
      "metadata": {
        "id": "sf7WkvX0hp1O"
      },
      "source": [
        "### Use Doc2Word instead of TFIDF (another vectorizer)\r\n",
        "Word embedding approaches use deep learning and neural network-based techniques to convert words into corresponding vectors so that semantically similar vectors are close to each other in an N-dimensional space, where N refers to the dimensions of the vectors. The underlying assumption is that two words sharing similar contexts also share a similar meaning and consequently a similar vector representation from the model."
      ]
    },
    {
      "cell_type": "code",
      "metadata": {
        "id": "VHvzvvoWhpIe",
        "colab": {
          "base_uri": "https://localhost:8080/"
        },
        "outputId": "d17ad1a5-48da-4116-e191-a05c0efd5ace"
      },
      "source": [
        "import gensim\r\n",
        "from gensim.models import Word2Vec\r\n",
        "from gensim.utils import simple_preprocess\r\n",
        "from gensim import corpora\r\n",
        "from gensim.models.doc2vec import TaggedDocument\r\n",
        "import multiprocessing\r\n",
        "cores=multiprocessing.cpu_count()\r\n",
        "\r\n",
        "tagged_data = df.apply(lambda r:TaggedDocument(words=tokenizer_lem(r['text']), tags=[r.target]), axis=1)\r\n",
        "print(tagged_data.head(10))\r\n",
        "\r\n",
        "# Train test split\r\n",
        "train_tagged, test_tagged = train_test_split(tagged_data, test_size=0.2, random_state=23)\r\n",
        "\r\n",
        "# Define Doc2Vec and build vocabulary\r\n",
        "from gensim.models import Doc2Vec\r\n",
        "model_dbow= Doc2Vec(dm=0, vector_size=30, negative=6, hs=0, min_count=1, sample=0, workers=cores, epoch=300)\r\n",
        "model_dbow.build_vocab([x for x in train_tagged.values])\r\n",
        "\r\n",
        "# Train distributed bag of words model\r\n",
        "model_dbow.train(train_tagged, total_examples=model_dbow.corpus_count, epochs=model_dbow.epochs)\r\n",
        "\r\n",
        "# Select X and y\r\n",
        "def vec_for_learning(model, tagged_docs):\r\n",
        "  sents=tagged_docs.values\r\n",
        "  targets, regressors=zip(*[(doc.tags[0], model.infer_vector(doc.words, steps=100)) for doc in sents])\r\n",
        "  return targets, regressors\r\n",
        "\r\n",
        "y_train, X_train=vec_for_learning(model_dbow, train_tagged)\r\n",
        "y_test, X_test=vec_for_learning(model_dbow, test_tagged)\r\n",
        "\r\n",
        "# Fit model on training set\r\n",
        "logreg = LogisticRegressionCV(max_iter=20000, solver='lbfgs', cv=9)\r\n",
        "logreg.fit(X_train, y_train)\r\n",
        "\r\n",
        "#Evaluate\r\n",
        "y_train_pred = logreg.predict(X_train)\r\n",
        "y_test_pred = logreg.predict(X_test)\r\n",
        "print(\"Training Set: \")\r\n",
        "evaluate(y_train,y_train_pred)\r\n",
        "print(\"Validation Set: \")\r\n",
        "evaluate(y_test,y_test_pred)"
      ],
      "execution_count": null,
      "outputs": [
        {
          "output_type": "stream",
          "text": [
            "0    ([black, eye, space, battle, occurred, star, i...\n",
            "1    ([world, fedex, longer, transport, bioterror, ...\n",
            "2    ([reality, training, train, fall, elevated, tr...\n",
            "3    ([taiwan, grace, expect, large, rock, tree, mu...\n",
            "4    ([new, isi, video, isi, threatens, behead, cro...\n",
            "5    ([freebesieged, martinmj, yougov, tory, landsl...\n",
            "6    ([billionaire, plan, free, half, billion, doll...\n",
            "7    ([jamesmelville, old, testimony, weapon, used,...\n",
            "8    ([ali, flew, plane, ran, burning, building, ma...\n",
            "9    ([thunder, shook, house, woke, sister, made, c...\n",
            "dtype: object\n",
            "Training Set: \n",
            "CONFUSION MATRIX:\n",
            "[[2829  125]\n",
            " [ 232 1990]]\n",
            "ACCURACY SCORE:\n",
            "0.9310\n",
            "CLASSIFICATION REPORT:\n",
            "\tPrecision: 0.9409\n",
            "\tRecall: 0.8956\n",
            "\tF1_Score: 0.9177\n",
            "Validation Set: \n",
            "CONFUSION MATRIX:\n",
            "[[641 106]\n",
            " [140 408]]\n",
            "ACCURACY SCORE:\n",
            "0.8100\n",
            "CLASSIFICATION REPORT:\n",
            "\tPrecision: 0.7938\n",
            "\tRecall: 0.7445\n",
            "\tF1_Score: 0.7684\n"
          ],
          "name": "stdout"
        }
      ]
    },
    {
      "cell_type": "markdown",
      "metadata": {
        "id": "ao6vGuzZ4HE3"
      },
      "source": [
        "It doesn't seem to be better than TF-IDF."
      ]
    },
    {
      "cell_type": "markdown",
      "metadata": {
        "id": "gR2EIOE6gZis"
      },
      "source": [
        "##Conclusion"
      ]
    },
    {
      "cell_type": "markdown",
      "metadata": {
        "id": "QZ7fQjXYgdmO"
      },
      "source": [
        "The best classifier for this problem was the first tried: logistic regression with cross-validation. We could make some progress on the vectorizer.\r\n"
      ]
    }
  ]
}